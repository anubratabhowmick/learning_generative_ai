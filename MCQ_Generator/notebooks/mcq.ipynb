{
 "cells": [
  {
   "cell_type": "code",
   "execution_count": 1,
   "metadata": {},
   "outputs": [
    {
     "data": {
      "text/plain": [
       "True"
      ]
     },
     "execution_count": 1,
     "metadata": {},
     "output_type": "execute_result"
    }
   ],
   "source": [
    "import json\n",
    "import traceback\n",
    "import pandas as pd\n",
    "\n",
    "from langchain.llms import OpenAI\n",
    "from langchain.prompts import PromptTemplate\n",
    "from langchain.chat_models import ChatOpenAI\n",
    "from langchain.callbacks import get_openai_callback\n",
    "from langchain.chains import LLMChain, SequentialChain\n",
    "\n",
    "from dotenv import load_dotenv\n",
    "load_dotenv()"
   ]
  },
  {
   "cell_type": "code",
   "execution_count": 2,
   "metadata": {},
   "outputs": [
    {
     "name": "stderr",
     "output_type": "stream",
     "text": [
      "/home/anubrata/GiT/learning_generative_ai/MCQ_Generator/env/lib/python3.10/site-packages/langchain_core/_api/deprecation.py:139: LangChainDeprecationWarning: The class `ChatOpenAI` was deprecated in LangChain 0.0.10 and will be removed in 0.3.0. An updated version of the class exists in the langchain-openai package and should be used instead. To use it run `pip install -U langchain-openai` and import as `from langchain_openai import ChatOpenAI`.\n",
      "  warn_deprecated(\n"
     ]
    }
   ],
   "source": [
    "# Create the ChatOpenAI object\n",
    "llm = ChatOpenAI(\n",
    "    model_name = 'gpt-4o',\n",
    "    temperature = 0.5\n",
    ")"
   ]
  },
  {
   "cell_type": "code",
   "execution_count": 3,
   "metadata": {},
   "outputs": [],
   "source": [
    "RESPONSE_JSON = {\n",
    "    \"1\": {\n",
    "        \"mcq\": \"multiple choice question\",\n",
    "        \"options\": {\n",
    "            \"a\": \"choice here\",\n",
    "            \"b\": \"choice here\",\n",
    "            \"c\": \"choice here\",\n",
    "            \"d\": \"choice here\",\n",
    "        },\n",
    "        \"correct\": \"correct choice\",\n",
    "    },\n",
    "    \"2\": {\n",
    "        \"mcq\": \"multiple choice question\",\n",
    "        \"options\": {\n",
    "            \"a\": \"choice here\",\n",
    "            \"b\": \"choice here\",\n",
    "            \"c\": \"choice here\",\n",
    "            \"d\": \"choice here\",\n",
    "        },\n",
    "        \"correct\": \"correct choice\",\n",
    "    },\n",
    "    \"3\": {\n",
    "        \"mcq\": \"multiple choice question\",\n",
    "        \"options\": {\n",
    "            \"a\": \"choice here\",\n",
    "            \"b\": \"choice here\",\n",
    "            \"c\": \"choice here\",\n",
    "            \"d\": \"choice here\",\n",
    "        },\n",
    "        \"correct\": \"correct choice\",\n",
    "    },\n",
    "}"
   ]
  },
  {
   "cell_type": "code",
   "execution_count": 4,
   "metadata": {},
   "outputs": [],
   "source": [
    "TEMPLATE = \"\"\"\n",
    "    Text: {text}\n",
    "    You are an expect MCQ maker. Given the above text, it is your job to \\\n",
    "    create quiz of {number} multiple choice questions for {subject} students in {tone} tone.\n",
    "    Make sure the questions are not repeated and check all the questions to be conforming the text as well.\n",
    "    Make sure to format your response like RESPONSE_JSON below and use it as a guide. \\\n",
    "    ### RESPONSE_JSON\n",
    "    {response_json}\n",
    "\"\"\""
   ]
  },
  {
   "cell_type": "code",
   "execution_count": 5,
   "metadata": {},
   "outputs": [],
   "source": [
    "quiz_generation_prompt = PromptTemplate(\n",
    "    input_variables=['text', 'number', 'subject', 'tone', 'response_json'],\n",
    "    template=TEMPLATE\n",
    ")"
   ]
  },
  {
   "cell_type": "code",
   "execution_count": 6,
   "metadata": {},
   "outputs": [
    {
     "name": "stderr",
     "output_type": "stream",
     "text": [
      "/home/anubrata/GiT/learning_generative_ai/MCQ_Generator/env/lib/python3.10/site-packages/langchain_core/_api/deprecation.py:139: LangChainDeprecationWarning: The class `LLMChain` was deprecated in LangChain 0.1.17 and will be removed in 1.0. Use RunnableSequence, e.g., `prompt | llm` instead.\n",
      "  warn_deprecated(\n"
     ]
    }
   ],
   "source": [
    "quiz_chain = LLMChain(\n",
    "    llm= llm,\n",
    "    prompt = quiz_generation_prompt,\n",
    "    output_key = 'quiz',\n",
    "    verbose = True\n",
    ")"
   ]
  },
  {
   "cell_type": "code",
   "execution_count": 7,
   "metadata": {},
   "outputs": [],
   "source": [
    "TEMPLATE2 = \"\"\" \n",
    "    You are an expert in English Grammar and a superstar in writing. Given a Multiple Choice Quiz for {subject} students, \\\n",
    "    you need to evaluate the complexity of the questions and give a complete analysis of the quiz. Only use at max 50 words for complexity and \\\n",
    "    if the quiz is not as per the cognitive and analytical abilities of the students, \\\n",
    "    update the quiz questions which needs to be changed and change the tone such that it perfectly fits the abilities of the students.\n",
    "    Quiz MCQs:\n",
    "    {quiz}\n",
    "    \n",
    "    Check the above quiz from an expert English writer.\n",
    "\"\"\""
   ]
  },
  {
   "cell_type": "code",
   "execution_count": 8,
   "metadata": {},
   "outputs": [],
   "source": [
    "quiz_evaluation_prompt = PromptTemplate(\n",
    "    input_variables =['subject', 'quiz'], \n",
    "    template=TEMPLATE2\n",
    ")"
   ]
  },
  {
   "cell_type": "code",
   "execution_count": 9,
   "metadata": {},
   "outputs": [],
   "source": [
    "review_chain = LLMChain(\n",
    "    llm = llm,\n",
    "    prompt = quiz_evaluation_prompt,\n",
    "    output_key = 'review',\n",
    "    verbose = True\n",
    ")"
   ]
  },
  {
   "cell_type": "code",
   "execution_count": 10,
   "metadata": {},
   "outputs": [],
   "source": [
    "generate_evaluate_chain = SequentialChain(\n",
    "    chains = [quiz_chain, review_chain],\n",
    "    input_variables = ['text', 'number', 'subject', 'tone', 'response_json'],\n",
    "    output_variables = ['quiz', 'review'],\n",
    "    verbose = True\n",
    ")"
   ]
  },
  {
   "cell_type": "code",
   "execution_count": 16,
   "metadata": {},
   "outputs": [],
   "source": [
    "with open('../data/data.txt', 'r') as file:\n",
    "    TEXT = file.read()"
   ]
  },
  {
   "cell_type": "code",
   "execution_count": 17,
   "metadata": {},
   "outputs": [
    {
     "name": "stdout",
     "output_type": "stream",
     "text": [
      "The term machine learning was coined in 1959 by Arthur Samuel, an IBM employee and pioneer in the field of computer gaming and artificial intelligence.[8][9] The synonym self-teaching computers was also used in this time period.[10][11]\n",
      "\n",
      "Although the earliest machine learning model was introduced in the 1950s when Arthur Samuel invented a program that calculated the winning chance in checkers for each side, the history of machine learning roots back to decades of human desire and effort to study human cognitive processes.[12] In 1949, Canadian psychologist Donald Hebb published the book The Organization of Behavior, in which he introduced a theoretical neural structure formed by certain interactions among nerve cells.[13] Hebb's model of neurons interacting with one another set a groundwork for how AIs and machine learning algorithms work under nodes, or artificial neurons used by computers to communicate data.[12] Other researchers who have studied human cognitive systems contributed to the modern machine learning technologies as well, including logician Walter Pitts and Warren McCulloch, who proposed the early mathematical models of neural networks to come up with algorithms that mirror human thought processes.[12]\n",
      "\n",
      "By the early 1960s an experimental \"learning machine\" with punched tape memory, called Cybertron, had been developed by Raytheon Company to analyze sonar signals, electrocardiograms, and speech patterns using rudimentary reinforcement learning. It was repetitively \"trained\" by a human operator/teacher to recognize patterns and equipped with a \"goof\" button to cause it to reevaluate incorrect decisions.[14] A representative book on research into machine learning during the 1960s was Nilsson's book on Learning Machines, dealing mostly with machine learning for pattern classification.[15] Interest related to pattern recognition continued into the 1970s, as described by Duda and Hart in 1973.[16] In 1981 a report was given on using teaching strategies so that an artificial neural network learns to recognize 40 characters (26 letters, 10 digits, and 4 special symbols) from a computer terminal.[17]\n",
      "\n",
      "Tom M. Mitchell provided a widely quoted, more formal definition of the algorithms studied in the machine learning field: \"A computer program is said to learn from experience E with respect to some class of tasks T and performance measure P if its performance at tasks in T, as measured by P, improves with experience E.\"[18] This definition of the tasks in which machine learning is concerned offers a fundamentally operational definition rather than defining the field in cognitive terms. This follows Alan Turing's proposal in his paper \"Computing Machinery and Intelligence\", in which the question \"Can machines think?\" is replaced with the question \"Can machines do what we (as thinking entities) can do?\".[19]\n",
      "\n",
      "Modern-day machine learning has two objectives. One is to classify data based on models which have been developed; the other purpose is to make predictions for future outcomes based on these models. A hypothetical algorithm specific to classifying data may use computer vision of moles coupled with supervised learning in order to train it to classify the cancerous moles. A machine learning algorithm for stock trading may inform the trader of future potential predictions.[20]\n"
     ]
    }
   ],
   "source": [
    "print(TEXT)"
   ]
  },
  {
   "cell_type": "code",
   "execution_count": 19,
   "metadata": {},
   "outputs": [
    {
     "name": "stdout",
     "output_type": "stream",
     "text": [
      "{\"1\": {\"mcq\": \"multiple choice question\", \"options\": {\"a\": \"choice here\", \"b\": \"choice here\", \"c\": \"choice here\", \"d\": \"choice here\"}, \"correct\": \"correct choice\"}, \"2\": {\"mcq\": \"multiple choice question\", \"options\": {\"a\": \"choice here\", \"b\": \"choice here\", \"c\": \"choice here\", \"d\": \"choice here\"}, \"correct\": \"correct choice\"}, \"3\": {\"mcq\": \"multiple choice question\", \"options\": {\"a\": \"choice here\", \"b\": \"choice here\", \"c\": \"choice here\", \"d\": \"choice here\"}, \"correct\": \"correct choice\"}}\n"
     ]
    }
   ],
   "source": [
    "# Serialize the Python dictionary into a JSON-formatted string\n",
    "print(json.dumps(RESPONSE_JSON))"
   ]
  },
  {
   "cell_type": "code",
   "execution_count": 24,
   "metadata": {},
   "outputs": [],
   "source": [
    "NUMBER = 5\n",
    "SUBJECT = 'Machine Learning'\n",
    "TONE = 'Hard'"
   ]
  },
  {
   "cell_type": "code",
   "execution_count": 25,
   "metadata": {},
   "outputs": [
    {
     "name": "stdout",
     "output_type": "stream",
     "text": [
      "\n",
      "\n",
      "\u001b[1m> Entering new SequentialChain chain...\u001b[0m\n",
      "\n",
      "\n",
      "\u001b[1m> Entering new LLMChain chain...\u001b[0m\n",
      "Prompt after formatting:\n",
      "\u001b[32;1m\u001b[1;3m\n",
      "    Text: The term machine learning was coined in 1959 by Arthur Samuel, an IBM employee and pioneer in the field of computer gaming and artificial intelligence.[8][9] The synonym self-teaching computers was also used in this time period.[10][11]\n",
      "\n",
      "Although the earliest machine learning model was introduced in the 1950s when Arthur Samuel invented a program that calculated the winning chance in checkers for each side, the history of machine learning roots back to decades of human desire and effort to study human cognitive processes.[12] In 1949, Canadian psychologist Donald Hebb published the book The Organization of Behavior, in which he introduced a theoretical neural structure formed by certain interactions among nerve cells.[13] Hebb's model of neurons interacting with one another set a groundwork for how AIs and machine learning algorithms work under nodes, or artificial neurons used by computers to communicate data.[12] Other researchers who have studied human cognitive systems contributed to the modern machine learning technologies as well, including logician Walter Pitts and Warren McCulloch, who proposed the early mathematical models of neural networks to come up with algorithms that mirror human thought processes.[12]\n",
      "\n",
      "By the early 1960s an experimental \"learning machine\" with punched tape memory, called Cybertron, had been developed by Raytheon Company to analyze sonar signals, electrocardiograms, and speech patterns using rudimentary reinforcement learning. It was repetitively \"trained\" by a human operator/teacher to recognize patterns and equipped with a \"goof\" button to cause it to reevaluate incorrect decisions.[14] A representative book on research into machine learning during the 1960s was Nilsson's book on Learning Machines, dealing mostly with machine learning for pattern classification.[15] Interest related to pattern recognition continued into the 1970s, as described by Duda and Hart in 1973.[16] In 1981 a report was given on using teaching strategies so that an artificial neural network learns to recognize 40 characters (26 letters, 10 digits, and 4 special symbols) from a computer terminal.[17]\n",
      "\n",
      "Tom M. Mitchell provided a widely quoted, more formal definition of the algorithms studied in the machine learning field: \"A computer program is said to learn from experience E with respect to some class of tasks T and performance measure P if its performance at tasks in T, as measured by P, improves with experience E.\"[18] This definition of the tasks in which machine learning is concerned offers a fundamentally operational definition rather than defining the field in cognitive terms. This follows Alan Turing's proposal in his paper \"Computing Machinery and Intelligence\", in which the question \"Can machines think?\" is replaced with the question \"Can machines do what we (as thinking entities) can do?\".[19]\n",
      "\n",
      "Modern-day machine learning has two objectives. One is to classify data based on models which have been developed; the other purpose is to make predictions for future outcomes based on these models. A hypothetical algorithm specific to classifying data may use computer vision of moles coupled with supervised learning in order to train it to classify the cancerous moles. A machine learning algorithm for stock trading may inform the trader of future potential predictions.[20]\n",
      "    You are an expect MCQ maker. Given the above text, it is your job to     create quiz of 5 multiple choice questions for Machine Learning students in Hard tone.\n",
      "    Make sure the questions are not repeated and check all the questions to be conforming the text as well.\n",
      "    Make sure to format your response like RESPONSE_JSON below and use it as a guide.     ### RESPONSE_JSON\n",
      "    {\"1\": {\"mcq\": \"multiple choice question\", \"options\": {\"a\": \"choice here\", \"b\": \"choice here\", \"c\": \"choice here\", \"d\": \"choice here\"}, \"correct\": \"correct choice\"}, \"2\": {\"mcq\": \"multiple choice question\", \"options\": {\"a\": \"choice here\", \"b\": \"choice here\", \"c\": \"choice here\", \"d\": \"choice here\"}, \"correct\": \"correct choice\"}, \"3\": {\"mcq\": \"multiple choice question\", \"options\": {\"a\": \"choice here\", \"b\": \"choice here\", \"c\": \"choice here\", \"d\": \"choice here\"}, \"correct\": \"correct choice\"}}\n",
      "\u001b[0m\n",
      "\n",
      "\u001b[1m> Finished chain.\u001b[0m\n",
      "\n",
      "\n",
      "\u001b[1m> Entering new LLMChain chain...\u001b[0m\n",
      "Prompt after formatting:\n",
      "\u001b[32;1m\u001b[1;3m \n",
      "    You are an expert in English Grammar and a superstar in writing. Given a Multiple Choice Quiz for Machine Learning students,     you need to evaluate the complexity of the questions and give a complete analysis of the quiz. Only use at max 50 words for complexity and     if the quiz is not as per the cognitive and analytical abilities of the students,     update the quiz questions which needs to be changed and change the tone such that it perfectly fits the abilities of the students.\n",
      "    Quiz MCQs:\n",
      "    ### RESPONSE_JSON\n",
      "```json\n",
      "{\n",
      "  \"1\": {\n",
      "    \"mcq\": \"Who coined the term 'machine learning' in 1959?\",\n",
      "    \"options\": {\n",
      "      \"a\": \"Donald Hebb\",\n",
      "      \"b\": \"Walter Pitts\",\n",
      "      \"c\": \"Arthur Samuel\",\n",
      "      \"d\": \"Tom M. Mitchell\"\n",
      "    },\n",
      "    \"correct\": \"c\"\n",
      "  },\n",
      "  \"2\": {\n",
      "    \"mcq\": \"What was the name of the experimental 'learning machine' developed by Raytheon Company in the early 1960s?\",\n",
      "    \"options\": {\n",
      "      \"a\": \"Cybertron\",\n",
      "      \"b\": \"Perceptron\",\n",
      "      \"c\": \"Neuronet\",\n",
      "      \"d\": \"Machina\"\n",
      "    },\n",
      "    \"correct\": \"a\"\n",
      "  },\n",
      "  \"3\": {\n",
      "    \"mcq\": \"Which book by Canadian psychologist Donald Hebb introduced a theoretical neural structure formed by interactions among nerve cells?\",\n",
      "    \"options\": {\n",
      "      \"a\": \"The Organization of Behavior\",\n",
      "      \"b\": \"Learning Machines\",\n",
      "      \"c\": \"Computing Machinery and Intelligence\",\n",
      "      \"d\": \"Pattern Classification\"\n",
      "    },\n",
      "    \"correct\": \"a\"\n",
      "  },\n",
      "  \"4\": {\n",
      "    \"mcq\": \"According to Tom M. Mitchell, what is the formal definition of a computer program learning from experience?\",\n",
      "    \"options\": {\n",
      "      \"a\": \"A computer program is said to learn from experience E with respect to some class of tasks T and performance measure P if its performance at tasks in T, as measured by P, improves with experience E.\",\n",
      "      \"b\": \"A computer program is said to think like humans if it can replicate human cognitive processes.\",\n",
      "      \"c\": \"A computer program is said to learn if it can classify data accurately.\",\n",
      "      \"d\": \"A computer program is said to learn from experience if it can predict future outcomes.\"\n",
      "    },\n",
      "    \"correct\": \"a\"\n",
      "  },\n",
      "  \"5\": {\n",
      "    \"mcq\": \"Which of the following researchers contributed to the early mathematical models of neural networks?\",\n",
      "    \"options\": {\n",
      "      \"a\": \"Alan Turing and Donald Hebb\",\n",
      "      \"b\": \"Walter Pitts and Warren McCulloch\",\n",
      "      \"c\": \"Arthur Samuel and Raytheon Company\",\n",
      "      \"d\": \"Tom M. Mitchell and Nilsson\"\n",
      "    },\n",
      "    \"correct\": \"b\"\n",
      "  }\n",
      "}\n",
      "```\n",
      "    \n",
      "    Check the above quiz from an expert English writer.\n",
      "\u001b[0m\n",
      "\n",
      "\u001b[1m> Finished chain.\u001b[0m\n",
      "\n",
      "\u001b[1m> Finished chain.\u001b[0m\n"
     ]
    }
   ],
   "source": [
    "# https://python.langchain.com/v0.1/docs/modules/model_io/llms/token_usage_tracking/\n",
    "\n",
    "# How to setup token usage tracking in LangChain\n",
    "with get_openai_callback() as cb:\n",
    "    response = generate_evaluate_chain({\n",
    "        \"text\": TEXT,\n",
    "        \"number\": NUMBER,\n",
    "        \"subject\": SUBJECT,\n",
    "        \"tone\": TONE,\n",
    "        \"response_json\": json.dumps(RESPONSE_JSON)\n",
    "    })"
   ]
  },
  {
   "cell_type": "code",
   "execution_count": 26,
   "metadata": {},
   "outputs": [
    {
     "name": "stdout",
     "output_type": "stream",
     "text": [
      "Total Tokens: 2801\n",
      "Prompt Tokens: 1516\n",
      "Completion Tokens: 1285\n",
      "Total cost: 0.026855\n"
     ]
    }
   ],
   "source": [
    "print(f'Total Tokens: {cb.total_tokens}')\n",
    "print(f'Prompt Tokens: {cb.prompt_tokens}')\n",
    "print(f'Completion Tokens: {cb.completion_tokens}')\n",
    "print(f'Total cost: {cb.total_cost}')"
   ]
  },
  {
   "cell_type": "code",
   "execution_count": 38,
   "metadata": {},
   "outputs": [
    {
     "data": {
      "text/plain": [
       "{'1': {'mcq': \"Who coined the term 'machine learning' in 1959?\",\n",
       "  'options': {'a': 'Donald Hebb',\n",
       "   'b': 'Walter Pitts',\n",
       "   'c': 'Arthur Samuel',\n",
       "   'd': 'Tom M. Mitchell'},\n",
       "  'correct': 'c'},\n",
       " '2': {'mcq': \"What was the name of the experimental 'learning machine' developed by Raytheon Company in the early 1960s?\",\n",
       "  'options': {'a': 'Cybertron',\n",
       "   'b': 'Perceptron',\n",
       "   'c': 'Neuronet',\n",
       "   'd': 'Machina'},\n",
       "  'correct': 'a'},\n",
       " '3': {'mcq': 'Which book by Canadian psychologist Donald Hebb introduced a theoretical neural structure formed by interactions among nerve cells?',\n",
       "  'options': {'a': 'The Organization of Behavior',\n",
       "   'b': 'Learning Machines',\n",
       "   'c': 'Computing Machinery and Intelligence',\n",
       "   'd': 'Pattern Classification'},\n",
       "  'correct': 'a'},\n",
       " '4': {'mcq': 'According to Tom M. Mitchell, what is the formal definition of a computer program learning from experience?',\n",
       "  'options': {'a': 'A computer program is said to learn from experience E with respect to some class of tasks T and performance measure P if its performance at tasks in T, as measured by P, improves with experience E.',\n",
       "   'b': 'A computer program is said to think like humans if it can replicate human cognitive processes.',\n",
       "   'c': 'A computer program is said to learn if it can classify data accurately.',\n",
       "   'd': 'A computer program is said to learn from experience if it can predict future outcomes.'},\n",
       "  'correct': 'a'},\n",
       " '5': {'mcq': 'Which of the following researchers contributed to the early mathematical models of neural networks?',\n",
       "  'options': {'a': 'Alan Turing and Donald Hebb',\n",
       "   'b': 'Walter Pitts and Warren McCulloch',\n",
       "   'c': 'Arthur Samuel and Raytheon Company',\n",
       "   'd': 'Tom M. Mitchell and Nilsson'},\n",
       "  'correct': 'b'}}"
      ]
     },
     "execution_count": 38,
     "metadata": {},
     "output_type": "execute_result"
    }
   ],
   "source": [
    "json.loads(response.get('quiz').strip('### RESPONSE_JSON\\n```json\\n'))"
   ]
  },
  {
   "cell_type": "code",
   "execution_count": null,
   "metadata": {},
   "outputs": [],
   "source": []
  }
 ],
 "metadata": {
  "kernelspec": {
   "display_name": "Python 3",
   "language": "python",
   "name": "python3"
  },
  "language_info": {
   "codemirror_mode": {
    "name": "ipython",
    "version": 3
   },
   "file_extension": ".py",
   "mimetype": "text/x-python",
   "name": "python",
   "nbconvert_exporter": "python",
   "pygments_lexer": "ipython3",
   "version": "3.10.14"
  }
 },
 "nbformat": 4,
 "nbformat_minor": 2
}

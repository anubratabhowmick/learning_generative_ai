{
 "cells": [
  {
   "cell_type": "markdown",
   "metadata": {},
   "source": [
    "# OpenBB Agents\n",
    "This is a short example notebook to demonstrate some of the features of `openbb-agents`, and to get you up and running as quickly as possible."
   ]
  },
  {
   "cell_type": "markdown",
   "metadata": {},
   "source": [
    "## Setup\n",
    "We'll be fetching our data provider API keys using OpenBB Platform's backend for this example (it's free to sign up!).\n",
    "\n",
    "You are also free to set-up your [API keys](https://my.openbb.co/app/platform/pat) locally, or to rely only on `yfinance`\n",
    "as a provider for data provider (although keep in mind that certain functions\n",
    "will not be available as a result)."
   ]
  },
  {
   "cell_type": "code",
   "execution_count": 23,
   "metadata": {},
   "outputs": [
    {
     "data": {
      "text/plain": [
       "True"
      ]
     },
     "execution_count": 23,
     "metadata": {},
     "output_type": "execute_result"
    }
   ],
   "source": [
    "import os\n",
    "import json\n",
    "import random\n",
    "\n",
    "import pandas as pd\n",
    "from openbb import obb\n",
    "from openbb_agents.agent import openbb_agent\n",
    "\n",
    "from dotenv import load_dotenv\n",
    "load_dotenv()"
   ]
  },
  {
   "cell_type": "code",
   "execution_count": 6,
   "metadata": {},
   "outputs": [],
   "source": [
    "OPENBB_PAT = os.environ.get('OPENBB_PAT')"
   ]
  },
  {
   "cell_type": "markdown",
   "metadata": {},
   "source": [
    "### Basic Querying"
   ]
  },
  {
   "cell_type": "code",
   "execution_count": 7,
   "metadata": {},
   "outputs": [
    {
     "name": "stdout",
     "output_type": "stream",
     "text": [
      "2024-07-15 22:23:18,603 - INFO - openbb_agents.agent - Using all available OpenBB tools with providers: ['yfinance']\n",
      "2024-07-15 22:23:18,604 - INFO - openbb_agents.tools - Building OpenBB tool vector index...\n",
      "2024-07-15 22:23:29,829 - INFO - openbb_agents.agent - Generating subquestions for user query: What is the current stock price of TSLA?\n",
      "2024-07-15 22:23:31,109 - INFO - openbb_agents.agent - Generated subquestions: [SubQuestion(id=1, question='What is the current stock price of TSLA?', depends_on=None)]\n",
      "2024-07-15 22:23:31,110 - INFO - openbb_agents.agent - Answering subquestion: id=1 question='What is the current stock price of TSLA?' depends_on=None\n",
      "2024-07-15 22:23:31,111 - INFO - openbb_agents.agent - Attempting to select tools for: {'What is the current stock price of TSLA?'}\n",
      "2024-07-15 22:23:32,034 - INFO - openbb_agents.chains - Searching tool index for: stock price\n",
      "2024-07-15 22:23:33,101 - INFO - openbb_agents.agent - Retrieved tool(s): ['quote', 'historical']\n",
      "2024-07-15 22:23:33,102 - INFO - openbb_agents.agent - Answering subquestion: What is the current stock price of TSLA?\n",
      "2024-07-15 22:23:34,088 - INFO - openbb_agents.chains - Function call: quote({'symbol': 'TSLA'})\n",
      "2024-07-15 22:23:37,323 - INFO - openbb_agents.agent - Answered subquestion: - The current stock price of Tesla, Inc. (TSLA) is $252.64.\n",
      "- The bid price is $252.92, and the ask price is $253.10.\n",
      "- The stock opened today at $255.965, with a high of $265.58 and a low of $251.73.\n",
      "- The previous closing price was $248.23.\n",
      "- The trading volume today is 142,831,728 shares.\n"
     ]
    }
   ],
   "source": [
    "result = openbb_agent(\"What is the current stock price of TSLA?\", openbb_pat=OPENBB_PAT)\n"
   ]
  },
  {
   "cell_type": "code",
   "execution_count": 8,
   "metadata": {},
   "outputs": [
    {
     "name": "stdout",
     "output_type": "stream",
     "text": [
      "- The current stock price of Apple Inc. (AAPL) is $234.40.\n",
      "- This data is retrieved from the latest available quote.\n"
     ]
    }
   ],
   "source": [
    "# You can turn off verbose output to only receive the answer.\n",
    "result = openbb_agent(\"What is the current stock price of AAPL?\", verbose=False)\n",
    "print(result)"
   ]
  },
  {
   "cell_type": "markdown",
   "metadata": {},
   "source": [
    "### Use only specific OpenBB Platform tools\n",
    "You don't have to rely on the entire suite of OpenBB tools. In certain\n",
    "use-cases, it makes sense to limit the agent to only a small subset of the\n",
    "tools."
   ]
  },
  {
   "cell_type": "code",
   "execution_count": 24,
   "metadata": {},
   "outputs": [
    {
     "name": "stdout",
     "output_type": "stream",
     "text": [
      "         period_ending  operating_revenue  total_revenue  cost_of_revenue  \\\n",
      "0  2023-06-30T00:00:00       2.119150e+11   2.119150e+11     6.586300e+10   \n",
      "1  2022-06-30T00:00:00       1.982700e+11   1.982700e+11     6.265000e+10   \n",
      "2  2021-06-30T00:00:00       1.680880e+11   1.680880e+11     5.223200e+10   \n",
      "3  2020-06-30T00:00:00       1.430150e+11   1.430150e+11     4.607800e+10   \n",
      "\n",
      "   gross_profit  other_gand_a  general_and_administrative_expense  \\\n",
      "0  1.460520e+11  7.575000e+09                        7.575000e+09   \n",
      "1  1.356200e+11  5.900000e+09                        5.900000e+09   \n",
      "2  1.158560e+11  5.107000e+09                        5.107000e+09   \n",
      "3  9.693700e+10  5.111000e+09                        5.111000e+09   \n",
      "\n",
      "   selling_and_marketing_expense  selling_general_and_admin_expense  \\\n",
      "0                   2.275900e+10                       3.033400e+10   \n",
      "1                   2.182500e+10                       2.772500e+10   \n",
      "2                   2.011700e+10                       2.522400e+10   \n",
      "3                   1.959800e+10                       2.470900e+10   \n",
      "\n",
      "   research_and_development_expense  ...          ebit        ebitda  \\\n",
      "0                      2.719500e+10  ...  9.127900e+10  1.051400e+11   \n",
      "1                      2.451200e+10  ...  8.577900e+10  1.002390e+11   \n",
      "2                      2.071600e+10  ...  7.344800e+10  8.513400e+10   \n",
      "3                      1.926900e+10  ...  5.562700e+10  6.842300e+10   \n",
      "\n",
      "   reconciled_cost_of_revenue  reconciled_depreciation  \\\n",
      "0                6.586300e+10             1.386100e+10   \n",
      "1                6.265000e+10             1.446000e+10   \n",
      "2                5.223200e+10             1.168600e+10   \n",
      "3                4.607800e+10             1.279600e+10   \n",
      "\n",
      "   net_income_from_continuing_operation_net_minority_interest  \\\n",
      "0                                       7.236100e+10            \n",
      "1                                       7.273800e+10            \n",
      "2                                       6.127100e+10            \n",
      "3                                       4.428100e+10            \n",
      "\n",
      "   total_unusual_items_excluding_goodwill  total_unusual_items  \\\n",
      "0                           -1.500000e+07        -1.500000e+07   \n",
      "1                            3.340000e+08         3.340000e+08   \n",
      "2                            1.303000e+09         1.303000e+09   \n",
      "3                            2.800000e+07         2.800000e+07   \n",
      "\n",
      "   normalized_ebitda  tax_rate_for_calcs  tax_effect_of_unusual_items  \n",
      "0       1.051550e+11            0.190000                -2.850000e+06  \n",
      "1       9.990500e+10            0.130000                 4.342000e+07  \n",
      "2       8.383100e+10            0.138266                 1.801608e+08  \n",
      "3       6.839500e+10            0.170000                 4.760000e+06  \n",
      "\n",
      "[4 rows x 48 columns]\n"
     ]
    },
    {
     "name": "stderr",
     "output_type": "stream",
     "text": [
      "/home/anubrata/miniconda3/envs/testingopenai/lib/python3.10/site-packages/openbb_yfinance/models/income_statement.py:82: FutureWarning: Downcasting object dtype arrays on .fillna, .ffill, .bfill is deprecated and will change in a future version. Call result.infer_objects(copy=False) instead. To opt-in to the future behavior, set `pd.set_option('future.no_silent_downcasting', True)`\n",
      "  data = data.fillna(\"N/A\").replace(\"N/A\", None).to_dict()\n"
     ]
    }
   ],
   "source": [
    "# For example, if we only wanted our agent to use the `.equity.fundamental.income` tool:\n",
    "data = obb.equity.fundamental.income(\"MSFT\")\n",
    "\n",
    "# Parse JSON data\n",
    "data_list = json.loads(data)\n",
    "\n",
    "# Convert to DataFrame\n",
    "df = pd.DataFrame(data_list)\n",
    "\n",
    "# Display DataFrame\n",
    "print(df)"
   ]
  },
  {
   "cell_type": "code",
   "execution_count": 12,
   "metadata": {},
   "outputs": [
    {
     "name": "stdout",
     "output_type": "stream",
     "text": [
      "2024-07-15 22:28:16,635 - INFO - openbb_agents.agent - Using specified OpenBB tools: ['.equity.fundamental.income']\n",
      "2024-07-15 22:28:18,349 - INFO - openbb_agents.agent - Generating subquestions for user query: What is the most recent annual revenue of MSFT?\n",
      "2024-07-15 22:28:19,199 - INFO - openbb_agents.agent - Generated subquestions: [SubQuestion(id=1, question='What is the most recent annual revenue of MSFT?', depends_on=None)]\n",
      "2024-07-15 22:28:19,200 - INFO - openbb_agents.agent - Answering subquestion: id=1 question='What is the most recent annual revenue of MSFT?' depends_on=None\n",
      "2024-07-15 22:28:19,201 - INFO - openbb_agents.agent - Attempting to select tools for: {'What is the most recent annual revenue of MSFT?'}\n",
      "2024-07-15 22:28:20,149 - INFO - openbb_agents.chains - Searching tool index for: annual revenue\n",
      "2024-07-15 22:28:21,396 - INFO - openbb_agents.agent - Retrieved tool(s): ['income']\n",
      "2024-07-15 22:28:21,397 - INFO - openbb_agents.agent - Answering subquestion: What is the most recent annual revenue of MSFT?\n",
      "2024-07-15 22:28:22,714 - INFO - openbb_agents.chains - Function call: income({'symbol': 'MSFT', 'period': 'annual', 'limit': 1})\n"
     ]
    },
    {
     "name": "stderr",
     "output_type": "stream",
     "text": [
      "/home/anubrata/miniconda3/envs/testingopenai/lib/python3.10/site-packages/openbb_yfinance/models/income_statement.py:82: FutureWarning: Downcasting object dtype arrays on .fillna, .ffill, .bfill is deprecated and will change in a future version. Call result.infer_objects(copy=False) instead. To opt-in to the future behavior, set `pd.set_option('future.no_silent_downcasting', True)`\n",
      "  data = data.fillna(\"N/A\").replace(\"N/A\", None).to_dict()\n"
     ]
    },
    {
     "name": "stdout",
     "output_type": "stream",
     "text": [
      "2024-07-15 22:28:24,718 - INFO - openbb_agents.agent - Answered subquestion: - The most recent annual revenue of Microsoft Corporation (MSFT) is $211.915 billion for the fiscal year ending on June 30, 2023.\n",
      "- This data is based on the latest available income statement for the period ending June 30, 2023.\n",
      "- The most recent annual revenue of Microsoft Corporation (MSFT) is $211.915 billion for the fiscal year ending on June 30, 2023.\n",
      "- This data is based on the latest available income statement for the period ending June 30, 2023.\n"
     ]
    }
   ],
   "source": [
    "#... then we can specify it using the `openbb_tools` input argument\n",
    "result = openbb_agent(\"What is the most recent annual revenue of MSFT?\", openbb_tools=[\".equity.fundamental.income\"])\n",
    "print(result)"
   ]
  },
  {
   "cell_type": "markdown",
   "metadata": {},
   "source": [
    "### Using custom tools\n",
    "You're also not limited to OpenBB's suite of tools. If you have custom tools you'd like to specify and add to the tool index (so that the LLM can search for your tool while c ompleting tasks), you can do so simply by adding a custom tool to the agent.\n"
   ]
  },
  {
   "cell_type": "code",
   "execution_count": 16,
   "metadata": {},
   "outputs": [],
   "source": [
    "# def get_weather(location: str) -> float:\n",
    "#     \"\"\"Get the weather for a given location, in degress Celsius.\"\"\"\n",
    "#     return random.uniform(0, 50)\n",
    "\n",
    "# # We can make extra tools available to the agent using the `extra_tools` input argument\n",
    "# result = openbb_agent(\"What is the weather at AMZN's headquarters?\", extra_tools=[get_weather])\n",
    "# print(result)"
   ]
  },
  {
   "cell_type": "markdown",
   "metadata": {},
   "source": [
    "### Async agent\n",
    "An `async` agent is also available for use in your asnychronous workflows. This can lead to speed-ups in certain situations (we're still improving this over time!)."
   ]
  },
  {
   "cell_type": "code",
   "execution_count": 18,
   "metadata": {},
   "outputs": [
    {
     "name": "stdout",
     "output_type": "stream",
     "text": [
      "2024-07-15 22:33:02,548 - INFO - openbb_agents.agent - Using all available OpenBB tools with providers: ['yfinance']\n",
      "2024-07-15 22:33:02,548 - INFO - openbb_agents.tools - Building OpenBB tool vector index...\n",
      "2024-07-15 22:33:12,922 - INFO - openbb_agents.agent - Generating subquestions for user query: What is the stock price of AAPL and MSFT?\n",
      "2024-07-15 22:33:14,506 - INFO - openbb_agents.agent - Generated subquestions: [SubQuestion(id=1, question='What is the current stock price of AAPL?', depends_on=[]), SubQuestion(id=2, question='What is the current stock price of MSFT?', depends_on=[])]\n",
      "2024-07-15 22:33:14,507 - INFO - openbb_agents.agent - Answering subquestion: id=1 question='What is the current stock price of AAPL?' depends_on=[]\n",
      "2024-07-15 22:33:14,508 - INFO - openbb_agents.agent - Attempting to select tools for: {'What is the current stock price of AAPL?'}\n",
      "2024-07-15 22:33:16,151 - INFO - openbb_agents.chains - Searching tool index for: stock price\n",
      "2024-07-15 22:33:17,425 - INFO - openbb_agents.agent - Retrieved tool(s): ['quote', 'historical']\n",
      "2024-07-15 22:33:17,426 - INFO - openbb_agents.agent - Answering subquestion: What is the current stock price of AAPL?\n",
      "2024-07-15 22:33:18,576 - INFO - openbb_agents.chains - Function call: quote({'symbol': 'AAPL'})\n",
      "2024-07-15 22:33:20,725 - INFO - openbb_agents.agent - Answered subquestion: - The current stock price of Apple Inc. (AAPL) is $234.40.\n",
      "- This data is as of the latest available trading session.\n",
      "- The stock opened at $236.532 and had a high of $237.23 and a low of $233.09 during the session.\n",
      "- The previous closing price was $230.54.\n",
      "- The trading volume for the session was 58,409,071 shares.\n",
      "2024-07-15 22:33:20,727 - INFO - openbb_agents.agent - Answering subquestion: id=2 question='What is the current stock price of MSFT?' depends_on=[]\n",
      "2024-07-15 22:33:20,727 - INFO - openbb_agents.agent - Attempting to select tools for: {'What is the current stock price of MSFT?'}\n",
      "2024-07-15 22:33:21,668 - INFO - openbb_agents.chains - Searching tool index for: stock price\n",
      "2024-07-15 22:33:23,076 - INFO - openbb_agents.agent - Retrieved tool(s): ['quote', 'historical']\n",
      "2024-07-15 22:33:23,078 - INFO - openbb_agents.agent - Answering subquestion: What is the current stock price of MSFT?\n",
      "2024-07-15 22:33:24,141 - INFO - openbb_agents.chains - Function call: quote({'symbol': 'MSFT'})\n",
      "2024-07-15 22:33:30,468 - INFO - openbb_agents.agent - Answered subquestion: - The current stock price of Microsoft Corporation (MSFT) is $453.96.\n",
      "- The stock opened today at $453.42.\n",
      "- The highest price today was $457.26, and the lowest was $451.43.\n",
      "- The previous closing price was $453.55.\n",
      "- The average trading volume over the last 50 days is 18,937,604 shares, and over the last 10 days is 17,372,610 shares.\n",
      "- The 52-week high for MSFT is $468.35, and the 52-week low is $309.45.\n",
      "\n",
      "This data is current as of the latest trading session.\n"
     ]
    },
    {
     "data": {
      "text/plain": [
       "'- The current stock price of Apple Inc. (AAPL) is $234.40.\\n- The current stock price of Microsoft Corporation (MSFT) is $453.96.'"
      ]
     },
     "execution_count": 18,
     "metadata": {},
     "output_type": "execute_result"
    }
   ],
   "source": [
    "openbb_agent(\"What is the stock price of AAPL and MSFT?\")"
   ]
  },
  {
   "cell_type": "code",
   "execution_count": 21,
   "metadata": {},
   "outputs": [],
   "source": [
    "# openbb_agent(\"Perform a fundamentals financial analysis of AMZN using the most recently available data. What do you find that's interesting?\")"
   ]
  },
  {
   "cell_type": "code",
   "execution_count": 20,
   "metadata": {},
   "outputs": [
    {
     "name": "stdout",
     "output_type": "stream",
     "text": [
      "2024-07-15 22:36:47,398 - INFO - openbb_agents.agent - Using all available OpenBB tools with providers: ['yfinance']\n",
      "2024-07-15 22:36:47,399 - INFO - openbb_agents.tools - Building OpenBB tool vector index...\n",
      "2024-07-15 22:36:58,800 - INFO - openbb_agents.agent - Generating subquestions for user query: Who are TSLA's peers? What is their respective market cap? Return the results in _descending_ order of market cap.\n",
      "2024-07-15 22:37:00,012 - INFO - openbb_agents.agent - Generated subquestions: [SubQuestion(id=1, question=\"Who are TSLA's peers?\", depends_on=None), SubQuestion(id=2, question=\"What is the market cap of each of TSLA's peers?\", depends_on=[1])]\n",
      "2024-07-15 22:37:00,013 - INFO - openbb_agents.agent - Answering subquestion: id=1 question=\"Who are TSLA's peers?\" depends_on=None\n",
      "2024-07-15 22:37:00,014 - INFO - openbb_agents.agent - Attempting to select tools for: {\"Who are TSLA's peers?\"}\n",
      "2024-07-15 22:37:00,828 - INFO - openbb_agents.chains - Searching tool index for: peers\n",
      "2024-07-15 22:37:02,385 - INFO - openbb_agents.chains - Searching tool index for: market peers\n",
      "2024-07-15 22:37:04,322 - INFO - openbb_agents.agent - Retrieved tool(s): ['quote', 'profile', 'info']\n",
      "2024-07-15 22:37:04,323 - INFO - openbb_agents.agent - Answering subquestion: Who are TSLA's peers?\n",
      "2024-07-15 22:37:05,219 - INFO - openbb_agents.chains - Function call: profile({'symbol': 'TSLA', 'provider': 'fmp'})\n",
      "2024-07-15 22:37:05,245 - ERROR - openbb_core.app.logs.logging_service - ERROR: {\"route\": \"/equity/profile\", \"input\": {\"provider_choices\": \"EquityInfo(provider='fmp')\", \"standard_params\": \"EquityInfo(symbol='TSLA')\", \"extra_params\": \"EquityInfo()\"}, \"error\": \"Missing credential 'fmp_api_key'. Check https://financialmodelingprep.com to get it. Known more about how to set provider credentials at https://docs.openbb.co/platform/getting_started/api_keys.\", \"provider\": \"fmp\", \"custom_headers\": null}\n",
      "Traceback (most recent call last):\n",
      "  File \"/home/anubrata/miniconda3/envs/testingopenai/lib/python3.10/site-packages/openbb_core/app/command_runner.py\", line 319, in _execute_func\n",
      "    obbject = await cls._command(func, kwargs)\n",
      "  File \"/home/anubrata/miniconda3/envs/testingopenai/lib/python3.10/site-packages/openbb_core/app/command_runner.py\", line 225, in _command\n",
      "    obbject = await maybe_coroutine(func, **kwargs)\n",
      "  File \"/home/anubrata/miniconda3/envs/testingopenai/lib/python3.10/site-packages/openbb_core/provider/utils/helpers.py\", line 286, in maybe_coroutine\n",
      "    return await func(*args, **kwargs)\n",
      "  File \"/home/anubrata/miniconda3/envs/testingopenai/lib/python3.10/site-packages/openbb_equity/equity_router.py\", line 89, in profile\n",
      "    return await OBBject.from_query(Query(**locals()))\n",
      "  File \"/home/anubrata/miniconda3/envs/testingopenai/lib/python3.10/site-packages/openbb_core/app/model/obbject.py\", line 305, in from_query\n",
      "    results = await query.execute()\n",
      "  File \"/home/anubrata/miniconda3/envs/testingopenai/lib/python3.10/site-packages/openbb_core/app/query.py\", line 75, in execute\n",
      "    return await query_executor.execute(\n",
      "  File \"/home/anubrata/miniconda3/envs/testingopenai/lib/python3.10/site-packages/openbb_core/provider/query_executor.py\", line 96, in execute\n",
      "    filtered_credentials = self.filter_credentials(\n",
      "  File \"/home/anubrata/miniconda3/envs/testingopenai/lib/python3.10/site-packages/openbb_core/provider/query_executor.py\", line 58, in filter_credentials\n",
      "    raise OpenBBError(\n",
      "openbb_core.app.model.abstract.error.OpenBBError: Missing credential 'fmp_api_key'. Check https://financialmodelingprep.com to get it. Known more about how to set provider credentials at https://docs.openbb.co/platform/getting_started/api_keys.\n",
      "2024-07-15 22:37:05,248 - ERROR - openbb_agents.chains - Error calling function: \n",
      "[Error] -> Missing credential 'fmp_api_key'. Check https://financialmodelingprep.com to get it. Known more about how to set provider credentials at https://docs.openbb.co/platform/getting_started/api_keys.\n",
      "2024-07-15 22:37:06,330 - INFO - openbb_agents.chains - Function call: profile({'symbol': 'TSLA', 'provider': 'yfinance'})\n",
      "2024-07-15 22:37:10,133 - INFO - openbb_agents.chains - Function call: profile({'symbol': 'GM', 'provider': 'yfinance'})\n",
      "2024-07-15 22:37:10,312 - INFO - openbb_agents.chains - Function call: profile({'symbol': 'F', 'provider': 'yfinance'})\n",
      "2024-07-15 22:37:10,429 - INFO - openbb_agents.chains - Function call: profile({'symbol': 'NIO', 'provider': 'yfinance'})\n",
      "2024-07-15 22:37:10,550 - INFO - openbb_agents.chains - Function call: profile({'symbol': 'RIVN', 'provider': 'yfinance'})\n",
      "2024-07-15 22:37:15,223 - INFO - openbb_agents.agent - Answered subquestion: Based on the retrieved data, here are some of Tesla's (TSLA) peers in the automotive industry along with their respective market capitalizations:\n",
      "\n",
      "- **Tesla, Inc. (TSLA)**\n",
      "  - Market Cap: $805.72 billion\n",
      "  - Sector: Consumer Cyclical\n",
      "  - Industry: Auto Manufacturers\n",
      "\n",
      "- **Ford Motor Company (F)**\n",
      "  - Market Cap: $56.54 billion\n",
      "  - Sector: Consumer Cyclical\n",
      "  - Industry: Auto Manufacturers\n",
      "\n",
      "- **General Motors Company (GM)**\n",
      "  - Market Cap: $56.22 billion\n",
      "  - Sector: Consumer Cyclical\n",
      "  - Industry: Auto Manufacturers\n",
      "\n",
      "- **Rivian Automotive, Inc. (RIVN)**\n",
      "  - Market Cap: $17.42 billion\n",
      "  - Sector: Consumer Cyclical\n",
      "  - Industry: Auto Manufacturers\n",
      "\n",
      "- **NIO Inc. (NIO)**\n",
      "  - Market Cap: $9.66 billion\n",
      "  - Sector: Consumer Cyclical\n",
      "  - Industry: Auto Manufacturers\n",
      "\n",
      "These companies are all involved in the design, manufacture, and sale of vehicles, making them direct competitors or peers to Tesla in the automotive industry.\n",
      "2024-07-15 22:37:15,223 - INFO - openbb_agents.agent - Answering subquestion: id=2 question=\"What is the market cap of each of TSLA's peers?\" depends_on=[1]\n",
      "2024-07-15 22:37:15,224 - INFO - openbb_agents.agent - Attempting to select tools for: {\"What is the market cap of each of TSLA's peers?\"}\n",
      "2024-07-15 22:37:16,411 - INFO - openbb_agents.chains - Searching tool index for: market capitalization peers\n",
      "2024-07-15 22:37:17,990 - INFO - openbb_agents.agent - Retrieved tool(s): ['aggressive_small_caps', 'metrics', 'quote']\n",
      "2024-07-15 22:37:17,991 - INFO - openbb_agents.agent - Answering subquestion: What is the market cap of each of TSLA's peers?\n",
      "2024-07-15 22:37:20,070 - INFO - openbb_agents.chains - Function call: quote({'symbol': 'F', 'provider': 'yfinance'})\n",
      "2024-07-15 22:37:20,149 - INFO - openbb_agents.chains - Function call: quote({'symbol': 'GM', 'provider': 'yfinance'})\n",
      "2024-07-15 22:37:20,222 - INFO - openbb_agents.chains - Function call: quote({'symbol': 'RIVN', 'provider': 'yfinance'})\n",
      "2024-07-15 22:37:20,292 - INFO - openbb_agents.chains - Function call: quote({'symbol': 'NIO', 'provider': 'yfinance'})\n",
      "2024-07-15 22:37:22,429 - INFO - openbb_agents.chains - Function call: metrics({'symbol': 'F', 'period': 'yfinance'})\n",
      "2024-07-15 22:37:22,431 - ERROR - openbb_agents.chains - Error calling function: \n",
      "[Error] -> 1 validations error(s)\n",
      "[Arg] 2 -> input: yfinance -> Input should be 'annual' or 'quarter'\n",
      "2024-07-15 22:37:22,459 - INFO - openbb_agents.chains - Function call: metrics({'symbol': 'GM', 'period': 'yfinance'})\n",
      "2024-07-15 22:37:22,461 - ERROR - openbb_agents.chains - Error calling function: \n",
      "[Error] -> 1 validations error(s)\n",
      "[Arg] 2 -> input: yfinance -> Input should be 'annual' or 'quarter'\n",
      "2024-07-15 22:37:22,464 - INFO - openbb_agents.chains - Function call: metrics({'symbol': 'RIVN', 'period': 'yfinance'})\n",
      "2024-07-15 22:37:22,466 - ERROR - openbb_agents.chains - Error calling function: \n",
      "[Error] -> 1 validations error(s)\n",
      "[Arg] 2 -> input: yfinance -> Input should be 'annual' or 'quarter'\n",
      "2024-07-15 22:37:22,538 - INFO - openbb_agents.chains - Function call: metrics({'symbol': 'NIO', 'period': 'yfinance'})\n",
      "2024-07-15 22:37:22,540 - ERROR - openbb_agents.chains - Error calling function: \n",
      "[Error] -> 1 validations error(s)\n",
      "[Arg] 2 -> input: yfinance -> Input should be 'annual' or 'quarter'\n",
      "2024-07-15 22:37:25,267 - INFO - openbb_agents.chains - Function call: metrics({'symbol': 'F', 'period': 'annual', 'limit': 'yfinance'})\n",
      "2024-07-15 22:37:25,269 - ERROR - openbb_agents.chains - Error calling function: \n",
      "[Error] -> 1 validations error(s)\n",
      "[Arg] 3 -> input: yfinance -> Input should be a valid integer, unable to parse string as an integer\n",
      "2024-07-15 22:37:25,273 - INFO - openbb_agents.chains - Function call: metrics({'symbol': 'GM', 'period': 'annual', 'limit': 'yfinance'})\n",
      "2024-07-15 22:37:25,276 - ERROR - openbb_agents.chains - Error calling function: \n",
      "[Error] -> 1 validations error(s)\n",
      "[Arg] 3 -> input: yfinance -> Input should be a valid integer, unable to parse string as an integer\n",
      "2024-07-15 22:37:25,381 - INFO - openbb_agents.chains - Function call: metrics({'symbol': 'RIVN', 'period': 'annual', 'limit': 'yfinance'})\n",
      "2024-07-15 22:37:25,384 - ERROR - openbb_agents.chains - Error calling function: \n",
      "[Error] -> 1 validations error(s)\n",
      "[Arg] 3 -> input: yfinance -> Input should be a valid integer, unable to parse string as an integer\n",
      "2024-07-15 22:37:25,388 - INFO - openbb_agents.chains - Function call: metrics({'symbol': 'NIO', 'period': 'annual', 'limit': 'yfinance'})\n",
      "2024-07-15 22:37:25,391 - ERROR - openbb_agents.chains - Error calling function: \n",
      "[Error] -> 1 validations error(s)\n",
      "[Arg] 3 -> input: yfinance -> Input should be a valid integer, unable to parse string as an integer\n"
     ]
    },
    {
     "name": "stderr",
     "output_type": "stream",
     "text": [
      "/home/anubrata/miniconda3/envs/testingopenai/lib/python3.10/site-packages/pydantic/main.py:398: UserWarning: Pydantic serializer warnings:\n",
      "  Expected `int` but got `str` - serialized value may not be as expected\n",
      "  return self.__pydantic_serializer__.to_json(\n"
     ]
    },
    {
     "name": "stdout",
     "output_type": "stream",
     "text": [
      "2024-07-15 22:37:28,476 - INFO - openbb_agents.chains - Function call: metrics({'symbol': 'F', 'period': 'annual'})\n",
      "2024-07-15 22:37:28,549 - INFO - openbb_agents.chains - Function call: metrics({'symbol': 'GM', 'period': 'annual'})\n",
      "2024-07-15 22:37:28,622 - INFO - openbb_agents.chains - Function call: metrics({'symbol': 'RIVN', 'period': 'annual'})\n",
      "2024-07-15 22:37:28,694 - INFO - openbb_agents.chains - Function call: metrics({'symbol': 'NIO', 'period': 'annual'})\n"
     ]
    },
    {
     "name": "stderr",
     "output_type": "stream",
     "text": [
      "/home/anubrata/miniconda3/envs/testingopenai/lib/python3.10/site-packages/pydantic/main.py:398: UserWarning: Pydantic serializer warnings:\n",
      "  Expected `int` but got `str` - serialized value may not be as expected\n",
      "  return self.__pydantic_serializer__.to_json(\n"
     ]
    },
    {
     "name": "stdout",
     "output_type": "stream",
     "text": [
      "2024-07-15 22:37:32,030 - INFO - openbb_agents.agent - Answered subquestion: Based on the retrieved data, here are the market capitalizations of Tesla's (TSLA) peers in descending order:\n",
      "\n",
      "- **Ford Motor Company (F)**\n",
      "  - Market Cap: $56.54 billion\n",
      "  - Last Price: $14.23\n",
      "\n",
      "- **General Motors Company (GM)**\n",
      "  - Market Cap: $56.22 billion\n",
      "  - Last Price: $49.30\n",
      "\n",
      "- **Rivian Automotive, Inc. (RIVN)**\n",
      "  - Market Cap: $17.42 billion\n",
      "  - Last Price: $17.50\n",
      "\n",
      "- **NIO Inc. (NIO)**\n",
      "  - Market Cap: $9.66 billion\n",
      "  - Last Price: $4.63\n",
      "\n",
      "These companies are all involved in the design, manufacture, and sale of vehicles, making them direct competitors or peers to Tesla in the automotive industry.\n"
     ]
    },
    {
     "data": {
      "text/plain": [
       "\"Based on the retrieved data, here are Tesla's (TSLA) peers in the automotive industry along with their respective market capitalizations, listed in descending order of market cap:\\n\\n- **Tesla, Inc. (TSLA)**\\n  - Market Cap: $805.72 billion\\n\\n- **Ford Motor Company (F)**\\n  - Market Cap: $56.54 billion\\n\\n- **General Motors Company (GM)**\\n  - Market Cap: $56.22 billion\\n\\n- **Rivian Automotive, Inc. (RIVN)**\\n  - Market Cap: $17.42 billion\\n\\n- **NIO Inc. (NIO)**\\n  - Market Cap: $9.66 billion\""
      ]
     },
     "execution_count": 20,
     "metadata": {},
     "output_type": "execute_result"
    }
   ],
   "source": [
    "openbb_agent(\"Who are TSLA's peers? What is their respective market cap? Return the results in _descending_ order of market cap.\")"
   ]
  },
  {
   "cell_type": "code",
   "execution_count": null,
   "metadata": {},
   "outputs": [],
   "source": []
  }
 ],
 "metadata": {
  "kernelspec": {
   "display_name": "testingopenai",
   "language": "python",
   "name": "python3"
  },
  "language_info": {
   "codemirror_mode": {
    "name": "ipython",
    "version": 3
   },
   "file_extension": ".py",
   "mimetype": "text/x-python",
   "name": "python",
   "nbconvert_exporter": "python",
   "pygments_lexer": "ipython3",
   "version": "3.10.14"
  }
 },
 "nbformat": 4,
 "nbformat_minor": 2
}

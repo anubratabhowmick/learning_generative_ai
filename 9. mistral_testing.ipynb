{
 "cells": [
  {
   "cell_type": "code",
   "execution_count": 2,
   "metadata": {},
   "outputs": [],
   "source": [
    "import os\n",
    "from mistralai.client import MistralClient\n",
    "from mistralai.models.chat_completion import ChatMessage\n",
    "\n",
    "api_key = os.environ[\"MISTRAL_API_KEY\"]"
   ]
  },
  {
   "cell_type": "code",
   "execution_count": 3,
   "metadata": {},
   "outputs": [],
   "source": [
    "model = \"open-mistral-nemo-2407\""
   ]
  },
  {
   "cell_type": "code",
   "execution_count": 4,
   "metadata": {},
   "outputs": [],
   "source": [
    "client = MistralClient(api_key=api_key)"
   ]
  },
  {
   "cell_type": "code",
   "execution_count": 5,
   "metadata": {},
   "outputs": [],
   "source": [
    "messages = [\n",
    "    ChatMessage(role=\"user\", content=\"Who is Bukayo Saka?\")\n",
    "]"
   ]
  },
  {
   "cell_type": "code",
   "execution_count": 6,
   "metadata": {},
   "outputs": [],
   "source": [
    "# No streaming\n",
    "chat_response = client.chat(\n",
    "    model=model,\n",
    "    messages=messages,\n",
    ")"
   ]
  },
  {
   "cell_type": "code",
   "execution_count": 7,
   "metadata": {},
   "outputs": [
    {
     "name": "stdout",
     "output_type": "stream",
     "text": [
      "Bukayo Saka is a professional footballer who plays as a midfielder or winger for the English Premier League club Arsenal and the England national team. Here are some key points about him:\n",
      "\n",
      "1. **Early Life and Career**: Saka was born on September 5, 2001, in Ealing, London. He joined Arsenal's academy at the age of seven and made his first-team debut in November 2018.\n",
      "\n",
      "2. **Arsenal Career**: Saka has become a key player for Arsenal. He can play on either wing or as a central midfielder. He has been praised for his dribbling skills, crossing ability, and work rate.\n",
      "\n",
      "3. **England National Team**: Saka made his debut for the England senior team in October 2020. He was a part of the England squad that reached the final of Euro 2020.\n",
      "\n",
      "4. **Awards and Achievements**: Saka was named the Arsenal Player of the Season for the 2020–21 campaign. He was also included in the PFA Team of the Year for the 2020–21 and 2021–22 seasons.\n",
      "\n",
      "5. **Personal Life**: Saka is known for his humble and down-to-earth personality. He is also active in charity work, including supporting the Black Lives Matter movement and raising awareness about racial injustice.\n"
     ]
    }
   ],
   "source": [
    "print(chat_response.choices[0].message.content)"
   ]
  },
  {
   "cell_type": "code",
   "execution_count": null,
   "metadata": {},
   "outputs": [],
   "source": []
  }
 ],
 "metadata": {
  "kernelspec": {
   "display_name": "testingopensourcegenai",
   "language": "python",
   "name": "python3"
  },
  "language_info": {
   "codemirror_mode": {
    "name": "ipython",
    "version": 3
   },
   "file_extension": ".py",
   "mimetype": "text/x-python",
   "name": "python",
   "nbconvert_exporter": "python",
   "pygments_lexer": "ipython3",
   "version": "3.8.19"
  }
 },
 "nbformat": 4,
 "nbformat_minor": 2
}

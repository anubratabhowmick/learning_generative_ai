{
 "cells": [
  {
   "cell_type": "markdown",
   "metadata": {},
   "source": [
    "### Load required Libraries\n",
    "__________________________"
   ]
  },
  {
   "cell_type": "code",
   "execution_count": 20,
   "metadata": {},
   "outputs": [
    {
     "data": {
      "text/plain": [
       "True"
      ]
     },
     "execution_count": 20,
     "metadata": {},
     "output_type": "execute_result"
    }
   ],
   "source": [
    "import json\n",
    "import langchain\n",
    "\n",
    "from openai import OpenAI\n",
    "\n",
    "from dotenv import load_dotenv\n",
    "from datetime import datetime, timedelta\n",
    "\n",
    "load_dotenv()"
   ]
  },
  {
   "cell_type": "markdown",
   "metadata": {},
   "source": [
    "### 1. Prompting Basics"
   ]
  },
  {
   "cell_type": "code",
   "execution_count": 6,
   "metadata": {},
   "outputs": [],
   "source": [
    "student_description = \"\"\"\n",
    "Anubrata Bhowmick is a student of Computer Science with Data Science specialization at the University of Twente. He is Indian and has a 8.15 GPA. He is popular for his programming skills and is an active member at Inter-Actief, the CS club of the university. He wants to pursue a career in Generative AI after his graduation.\n",
    "\"\"\""
   ]
  },
  {
   "cell_type": "code",
   "execution_count": 7,
   "metadata": {},
   "outputs": [
    {
     "data": {
      "text/plain": [
       "'\\nAnubrata Bhowmick is a student of Computer Science with Data Science specialization at the University of Twente. He is Indian and has a 8.15 GPA. He is popular for his programming skills and is an active member at Inter-Actief, the CS club of the university. He wants to pursue a career in Generative AI after his graduation.\\n'"
      ]
     },
     "execution_count": 7,
     "metadata": {},
     "output_type": "execute_result"
    }
   ],
   "source": [
    "student_description"
   ]
  },
  {
   "cell_type": "code",
   "execution_count": 8,
   "metadata": {},
   "outputs": [],
   "source": [
    "# A simple prompt to extract information from \"student_description\" in a JSON format\n",
    "prompt = f'''\n",
    "Please extract the following information from the given text and return it as a JSON object:\n",
    "\n",
    "Name\n",
    "College\n",
    "Grades\n",
    "Club\n",
    "\n",
    "This is the body of the text to extract the information from: {student_description}\n",
    "'''"
   ]
  },
  {
   "cell_type": "code",
   "execution_count": 3,
   "metadata": {},
   "outputs": [
    {
     "data": {
      "text/plain": [
       "<openai.OpenAI at 0x7fd53c2350c0>"
      ]
     },
     "execution_count": 3,
     "metadata": {},
     "output_type": "execute_result"
    }
   ],
   "source": [
    "client = OpenAI()\n",
    "client"
   ]
  },
  {
   "cell_type": "code",
   "execution_count": 14,
   "metadata": {},
   "outputs": [],
   "source": [
    "response = client.chat.completions.create(\n",
    "    model = \"gpt-4o\",\n",
    "    messages=[\n",
    "        {\n",
    "            \"role\": \"user\",\n",
    "            \"content\": prompt\n",
    "        }\n",
    "    ]\n",
    ")"
   ]
  },
  {
   "cell_type": "code",
   "execution_count": 31,
   "metadata": {},
   "outputs": [
    {
     "data": {
      "text/plain": [
       "'```json\\n{\\n  \"Name\": \"Anubrata Bhowmick\",\\n  \"College\": \"University of Twente\",\\n  \"Grades\": \"8.15 GPA\",\\n  \"Club\": \"Inter-Actief\"\\n}\\n```'"
      ]
     },
     "execution_count": 31,
     "metadata": {},
     "output_type": "execute_result"
    }
   ],
   "source": [
    "output = response.choices[0].message.content\n",
    "\n",
    "# Remove Markdown code block delimiters and surrounding whitespace\n",
    "cleaned_output = output.strip('```json\\n')\n",
    "cleaned_output"
   ]
  },
  {
   "cell_type": "code",
   "execution_count": 33,
   "metadata": {},
   "outputs": [
    {
     "data": {
      "text/plain": [
       "{'Name': 'Anubrata Bhowmick',\n",
       " 'College': 'University of Twente',\n",
       " 'Grades': '8.15 GPA',\n",
       " 'Club': 'Inter-Actief'}"
      ]
     },
     "execution_count": 33,
     "metadata": {},
     "output_type": "execute_result"
    }
   ],
   "source": [
    "json.loads(cleaned_output)"
   ]
  },
  {
   "cell_type": "markdown",
   "metadata": {},
   "source": [
    "### 2. Function Calling"
   ]
  },
  {
   "cell_type": "code",
   "execution_count": 57,
   "metadata": {},
   "outputs": [],
   "source": [
    "student_custom_function = [\n",
    "    {\n",
    "        'name': 'extract_student_info',\n",
    "        'description': 'Get the student information from the body of the input text',\n",
    "        'parameters': {\n",
    "            'type': 'object',\n",
    "            'properties': {\n",
    "                'name': {\n",
    "                    'type': 'string',\n",
    "                    'description': 'Name of the person'\n",
    "                },\n",
    "                'college': {\n",
    "                    'type': 'string',\n",
    "                    'description': 'College Name'\n",
    "                },\n",
    "                'grades':{\n",
    "                    'type': 'number',\n",
    "                    'description': 'CGPA of the student'\n",
    "                },\n",
    "                'club': {\n",
    "                    'type': 'string',\n",
    "                    'description': 'College club for extracurricular activities'\n",
    "                }\n",
    "            }\n",
    "        }\n",
    "    }\n",
    "]"
   ]
  },
  {
   "cell_type": "code",
   "execution_count": 35,
   "metadata": {},
   "outputs": [],
   "source": [
    "func_response = client.chat.completions.create(\n",
    "    model = \"gpt-4o\",\n",
    "    messages=[\n",
    "        {\n",
    "            \"role\": \"user\",\n",
    "            \"content\": prompt\n",
    "        }\n",
    "    ],\n",
    "    functions=student_custom_function\n",
    ")"
   ]
  },
  {
   "cell_type": "code",
   "execution_count": 51,
   "metadata": {},
   "outputs": [
    {
     "data": {
      "text/plain": [
       "'{\"name\":\"Anubrata Bhowmick\",\"college\":\"University of Twente\",\"grades\":8,\"club\":\"Inter-Actief\"}'"
      ]
     },
     "execution_count": 51,
     "metadata": {},
     "output_type": "execute_result"
    }
   ],
   "source": [
    "# Make sure to check the responses in each level\n",
    "func_response.choices[0].message.function_call.arguments"
   ]
  },
  {
   "cell_type": "code",
   "execution_count": 52,
   "metadata": {},
   "outputs": [],
   "source": [
    "func_output = func_response.choices[0].message.function_call.arguments"
   ]
  },
  {
   "cell_type": "code",
   "execution_count": 53,
   "metadata": {},
   "outputs": [
    {
     "data": {
      "text/plain": [
       "{'name': 'Anubrata Bhowmick',\n",
       " 'college': 'University of Twente',\n",
       " 'grades': 8,\n",
       " 'club': 'Inter-Actief'}"
      ]
     },
     "execution_count": 53,
     "metadata": {},
     "output_type": "execute_result"
    }
   ],
   "source": [
    "json.loads(func_output)"
   ]
  },
  {
   "cell_type": "markdown",
   "metadata": {},
   "source": [
    "### 3. Benefits of function calling"
   ]
  },
  {
   "cell_type": "code",
   "execution_count": 50,
   "metadata": {},
   "outputs": [],
   "source": [
    "student_description_two = \"\"\"\n",
    "Gabriela Mitrana is a student of Interaction Technology with Data Science specialization at the University of Twente. She is Romanian and has a 7.5 GPA. She is popular for her analytical skills and is an active member at IntUit, the Interaction Technology club of the university. She wants to pursue a career in Business Studies after her graduation.\n",
    "\"\"\""
   ]
  },
  {
   "cell_type": "code",
   "execution_count": 58,
   "metadata": {},
   "outputs": [
    {
     "name": "stdout",
     "output_type": "stream",
     "text": [
      "{'name': 'Anubrata Bhowmick', 'college': 'University of Twente', 'grades': 8.15, 'club': 'Inter-Actief'}\n",
      "{'name': 'Gabriela Mitrana', 'college': 'University of Twente', 'grades': 7.5, 'club': 'IntUit'}\n"
     ]
    }
   ],
   "source": [
    "student_info = [student_description, student_description_two]\n",
    "\n",
    "for student in student_info:\n",
    "    func_response_loop = client.chat.completions.create(\n",
    "        model = \"gpt-4o\",\n",
    "        messages=[\n",
    "            {\n",
    "                \"role\": \"user\",\n",
    "                \"content\": student\n",
    "            }\n",
    "        ],\n",
    "        functions=student_custom_function,\n",
    "        function_call='auto'\n",
    "    )\n",
    "    print(json.loads(func_response_loop.choices[0].message.function_call.arguments))"
   ]
  },
  {
   "cell_type": "code",
   "execution_count": 59,
   "metadata": {},
   "outputs": [],
   "source": [
    "student_custom_function_two = [\n",
    "    {\n",
    "        'name': 'extract_student_ambition',\n",
    "        'description': 'Get the student ambition from the body of the input text',\n",
    "        'parameters': {\n",
    "            'type': 'object',\n",
    "            'properties': {\n",
    "                'career': {\n",
    "                    'type': 'string',\n",
    "                    'description': 'Career ambition after graduation'\n",
    "                }\n",
    "            }\n",
    "        }\n",
    "    }\n",
    "]"
   ]
  },
  {
   "cell_type": "code",
   "execution_count": 66,
   "metadata": {},
   "outputs": [
    {
     "name": "stdout",
     "output_type": "stream",
     "text": [
      "{'name': 'Anubrata Bhowmick', 'college': 'University of Twente', 'grades': 8.15, 'club': 'Inter-Actief'}\n",
      "{'career': 'He wants to pursue a career in Generative AI after his graduation.'}\n",
      "{'name': 'Gabriela Mitrana', 'college': 'University of Twente', 'grades': 7.5, 'club': 'IntUit'}\n",
      "{'career': 'She wants to pursue a career in Business Studies after her graduation.'}\n"
     ]
    }
   ],
   "source": [
    "student_info = [student_description, student_description_two]\n",
    "multiple_functions = [student_custom_function[0], student_custom_function_two[0]]\n",
    "\n",
    "for student in student_info:\n",
    "    for func in multiple_functions:\n",
    "        mul_func_response_loop = client.chat.completions.create(\n",
    "            model = \"gpt-4o\",\n",
    "            messages=[\n",
    "                {\n",
    "                    \"role\": \"user\",\n",
    "                    \"content\": student\n",
    "                }\n",
    "            ],\n",
    "            functions=[func],\n",
    "            function_call='auto'\n",
    "        )\n",
    "        print(json.loads(mul_func_response_loop.choices[0].message.function_call.arguments))"
   ]
  },
  {
   "cell_type": "markdown",
   "metadata": {},
   "source": [
    "### 4. Advanced Example of Functions"
   ]
  },
  {
   "cell_type": "code",
   "execution_count": 4,
   "metadata": {},
   "outputs": [],
   "source": [
    "flight_resp_orig = client.chat.completions.create(\n",
    "    model = \"gpt-4o\",\n",
    "    messages=[\n",
    "        {\n",
    "            \"role\": \"user\",\n",
    "            \"content\": \"When's the next flight from Amsterdam to Bucharest?\"\n",
    "        }\n",
    "    ],\n",
    ")"
   ]
  },
  {
   "cell_type": "code",
   "execution_count": 10,
   "metadata": {},
   "outputs": [
    {
     "data": {
      "text/plain": [
       "\"I don't have the ability to provide real-time information as my data was last updated in January 2022. For the most accurate and up-to-date information about flight schedules from Amsterdam to Bucharest, I recommend checking with airlines directly or using an online travel service like Expedia, Skyscanner, or the websites of the airports involved. You could also use a flight tracking app or website such as FlightAware or FlightRadar24 for the latest flight information.\""
      ]
     },
     "execution_count": 10,
     "metadata": {},
     "output_type": "execute_result"
    }
   ],
   "source": [
    "flight_resp_orig.choices[0].message.content"
   ]
  },
  {
   "cell_type": "code",
   "execution_count": 11,
   "metadata": {},
   "outputs": [],
   "source": [
    "advanced_function_desc = [\n",
    "    {\n",
    "        \"name\": \"get_flight_info\",\n",
    "        \"description\": \"Get flight information between two locations\",\n",
    "        \"parameters\": {\n",
    "            \"type\": \"object\",\n",
    "            \"properties\": {\n",
    "                \"loc_origin\": {\n",
    "                    \"type\": \"string\",\n",
    "                    \"description\": \"The departure airport, e.g. AMS\"\n",
    "                },\n",
    "                \"loc_destination\": {\n",
    "                    \"type\": \"string\",\n",
    "                    \"descrption\": \"The destination airport, e.g. IATA\"\n",
    "                },\n",
    "            },\n",
    "            \"required\": [\"loc_origin\", \"loc_destination\"]\n",
    "        },\n",
    "    }\n",
    "]"
   ]
  },
  {
   "cell_type": "code",
   "execution_count": 12,
   "metadata": {},
   "outputs": [],
   "source": [
    "user_prompt = \"When's the next flight from Amsterdam to Bucharest?\""
   ]
  },
  {
   "cell_type": "code",
   "execution_count": 13,
   "metadata": {},
   "outputs": [],
   "source": [
    "flight_resp_new = client.chat.completions.create(\n",
    "    model = \"gpt-4o\",\n",
    "    messages=[\n",
    "        {\n",
    "            \"role\": \"user\",\n",
    "            \"content\": user_prompt\n",
    "        }\n",
    "    ],\n",
    "    functions=advanced_function_desc,\n",
    "    function_call='auto'\n",
    ")"
   ]
  },
  {
   "cell_type": "code",
   "execution_count": 18,
   "metadata": {},
   "outputs": [
    {
     "data": {
      "text/plain": [
       "'{\"loc_origin\":\"AMS\",\"loc_destination\":\"BUH\"}'"
      ]
     },
     "execution_count": 18,
     "metadata": {},
     "output_type": "execute_result"
    }
   ],
   "source": [
    "flight_resp_new.choices[0].message.function_call.arguments"
   ]
  },
  {
   "cell_type": "code",
   "execution_count": 21,
   "metadata": {},
   "outputs": [],
   "source": [
    "# Let's create a mock API\n",
    "def get_flight_info(loc_origin, loc_destination):\n",
    "    \"\"\" Get flight info between two locations \"\"\"\n",
    "    \n",
    "    flight_info = {\n",
    "        \"loc_origin\": loc_origin,\n",
    "        \"loc_destination\": loc_destination,\n",
    "        \"datetime\": str(datetime.now() + timedelta(hours=2)),\n",
    "        \"airline\": \"KLM\",\n",
    "        \"flight\": \"KLM641\",\n",
    "    }\n",
    "    \n",
    "    return json.dumps(flight_info)"
   ]
  },
  {
   "cell_type": "code",
   "execution_count": 22,
   "metadata": {},
   "outputs": [
    {
     "data": {
      "text/plain": [
       "{'loc_origin': 'AMS', 'loc_destination': 'BUH'}"
      ]
     },
     "execution_count": 22,
     "metadata": {},
     "output_type": "execute_result"
    }
   ],
   "source": [
    "location_from_prompts = json.loads(flight_resp_new.choices[0].message.function_call.arguments)\n",
    "location_from_prompts"
   ]
  },
  {
   "cell_type": "code",
   "execution_count": 30,
   "metadata": {},
   "outputs": [
    {
     "data": {
      "text/plain": [
       "'get_flight_info'"
      ]
     },
     "execution_count": 30,
     "metadata": {},
     "output_type": "execute_result"
    }
   ],
   "source": [
    "flight_resp_new.choices[0].message.function_call.name"
   ]
  },
  {
   "cell_type": "code",
   "execution_count": 38,
   "metadata": {},
   "outputs": [
    {
     "name": "stdout",
     "output_type": "stream",
     "text": [
      "{\"loc_origin\": \"AMS\", \"loc_destination\": \"BUH\", \"datetime\": \"2024-07-10 17:33:06.687709\", \"airline\": \"KLM\", \"flight\": \"KLM641\"}\n"
     ]
    }
   ],
   "source": [
    "# Let's choose the function from the response to hit the api\n",
    "chosen_func = eval(flight_resp_new.choices[0].message.function_call.name)\n",
    "flight = chosen_func(location_from_prompts.get('loc_origin'), location_from_prompts.get('loc_destination'))\n",
    "\n",
    "print(flight)"
   ]
  },
  {
   "cell_type": "code",
   "execution_count": 39,
   "metadata": {},
   "outputs": [],
   "source": [
    "flight_resp_final = client.chat.completions.create(\n",
    "    model = \"gpt-4o\",\n",
    "    messages=[\n",
    "        {\n",
    "            \"role\": \"user\",\n",
    "            \"content\": user_prompt\n",
    "        },\n",
    "        {\n",
    "            \"role\": \"function\",\n",
    "            \"name\": flight_resp_new.choices[0].message.function_call.name,\n",
    "            \"content\": flight\n",
    "        }\n",
    "    ],\n",
    "    functions=advanced_function_desc,\n",
    "    function_call='auto'\n",
    ")"
   ]
  },
  {
   "cell_type": "code",
   "execution_count": 47,
   "metadata": {},
   "outputs": [
    {
     "data": {
      "text/plain": [
       "\"The next flight from Amsterdam (AMS) to Bucharest (BUH) is operated by KLM. The flight number is KLM641. Please check the airline's website or contact their customer service for the exact departure time and any additional details.\""
      ]
     },
     "execution_count": 47,
     "metadata": {},
     "output_type": "execute_result"
    }
   ],
   "source": [
    "flight_resp_final.choices[0].message.content"
   ]
  }
 ],
 "metadata": {
  "kernelspec": {
   "display_name": "testingopenai",
   "language": "python",
   "name": "python3"
  },
  "language_info": {
   "codemirror_mode": {
    "name": "ipython",
    "version": 3
   },
   "file_extension": ".py",
   "mimetype": "text/x-python",
   "name": "python",
   "nbconvert_exporter": "python",
   "pygments_lexer": "ipython3",
   "version": "3.10.14"
  }
 },
 "nbformat": 4,
 "nbformat_minor": 2
}

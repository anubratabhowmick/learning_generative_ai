{
 "cells": [
  {
   "cell_type": "code",
   "execution_count": 1,
   "metadata": {},
   "outputs": [
    {
     "name": "stderr",
     "output_type": "stream",
     "text": [
      "/home/anubrata/GiT/learning_generative_ai/Regulation_Chatbot/regulation_chatbot/lib/python3.8/site-packages/pinecone/data/index.py:1: TqdmWarning: IProgress not found. Please update jupyter and ipywidgets. See https://ipywidgets.readthedocs.io/en/stable/user_install.html\n",
      "  from tqdm.autonotebook import tqdm\n"
     ]
    },
    {
     "data": {
      "text/plain": [
       "True"
      ]
     },
     "execution_count": 1,
     "metadata": {},
     "output_type": "execute_result"
    }
   ],
   "source": [
    "import pinecone\n",
    "\n",
    "from tqdm.autonotebook import tqdm\n",
    "\n",
    "from langchain.llms import CTransformers\n",
    "from langchain.chains import RetrievalQA\n",
    "from langchain.vectorstores import Pinecone\n",
    "from langchain.prompts import PromptTemplate\n",
    "from langchain.embeddings import HuggingFaceEmbeddings\n",
    "from langchain.text_splitter import RecursiveCharacterTextSplitter\n",
    "from langchain.document_loaders import PyPDFLoader, DirectoryLoader\n",
    "\n",
    "from dotenv import load_dotenv\n",
    "load_dotenv()\n"
   ]
  },
  {
   "cell_type": "code",
   "execution_count": 2,
   "metadata": {},
   "outputs": [],
   "source": [
    "def load_pdf(data):\n",
    "    loader = DirectoryLoader(\n",
    "        data,\n",
    "        glob=\"*.pdf\",\n",
    "        loader_cls=PyPDFLoader\n",
    "    )\n",
    "    \n",
    "    return loader.load()"
   ]
  },
  {
   "cell_type": "code",
   "execution_count": 3,
   "metadata": {},
   "outputs": [],
   "source": [
    "doc = load_pdf(\"../data\")\n",
    "#doc <-- A huge document, so better not uncomment and see it here"
   ]
  },
  {
   "cell_type": "code",
   "execution_count": 4,
   "metadata": {},
   "outputs": [],
   "source": [
    "# Create text chunks\n",
    "def text_split(extracted_data):\n",
    "    splitter = RecursiveCharacterTextSplitter(\n",
    "        chunk_size = 500,\n",
    "        chunk_overlap = 20\n",
    "    )\n",
    "    \n",
    "    return splitter.split_documents(extracted_data)"
   ]
  },
  {
   "cell_type": "code",
   "execution_count": 5,
   "metadata": {},
   "outputs": [],
   "source": [
    "chunked_data = text_split(doc) "
   ]
  },
  {
   "cell_type": "code",
   "execution_count": 6,
   "metadata": {},
   "outputs": [],
   "source": [
    "# Download the Embedding Model\n",
    "def download_hf_embedding():\n",
    "    return HuggingFaceEmbeddings(model_name = \"sentence-transformers/all-MiniLM-L6-v2\") # You can search this in HuggingFace to see how the embedding works"
   ]
  },
  {
   "cell_type": "code",
   "execution_count": 7,
   "metadata": {},
   "outputs": [
    {
     "name": "stderr",
     "output_type": "stream",
     "text": [
      "/home/anubrata/GiT/learning_generative_ai/Regulation_Chatbot/regulation_chatbot/lib/python3.8/site-packages/langchain_core/_api/deprecation.py:139: LangChainDeprecationWarning: The class `HuggingFaceEmbeddings` was deprecated in LangChain 0.2.2 and will be removed in 0.3.0. An updated version of the class exists in the langchain-huggingface package and should be used instead. To use it run `pip install -U langchain-huggingface` and import as `from langchain_huggingface import HuggingFaceEmbeddings`.\n",
      "  warn_deprecated(\n"
     ]
    },
    {
     "data": {
      "text/plain": [
       "HuggingFaceEmbeddings(client=SentenceTransformer(\n",
       "  (0): Transformer({'max_seq_length': 256, 'do_lower_case': False}) with Transformer model: BertModel \n",
       "  (1): Pooling({'word_embedding_dimension': 384, 'pooling_mode_cls_token': False, 'pooling_mode_mean_tokens': True, 'pooling_mode_max_tokens': False, 'pooling_mode_mean_sqrt_len_tokens': False})\n",
       "  (2): Normalize()\n",
       "), model_name='sentence-transformers/all-MiniLM-L6-v2', cache_folder=None, model_kwargs={}, encode_kwargs={}, multi_process=False, show_progress=False)"
      ]
     },
     "execution_count": 7,
     "metadata": {},
     "output_type": "execute_result"
    }
   ],
   "source": [
    "embedding = download_hf_embedding()\n",
    "embedding"
   ]
  },
  {
   "cell_type": "code",
   "execution_count": 8,
   "metadata": {},
   "outputs": [
    {
     "name": "stdout",
     "output_type": "stream",
     "text": [
      "[-0.006630192510783672, 0.00038896594196558, -0.032901667058467865, -0.022884873673319817, 0.03727448359131813, 0.08408267796039581, 0.05745553970336914, 0.005245243664830923, 0.10912478715181351, 0.00669531524181366, -0.03419636934995651, -0.12951846420764923, 0.035795096307992935, 0.0009837307734414935, -0.04221082478761673, -0.07842656224966049, -0.06226443871855736, -0.08227495849132538, 0.01652878150343895, -0.10809822380542755, -0.04492056369781494, -0.0641852468252182, -0.07197432219982147, 0.042060744017362595, -0.07080677896738052, 0.05859140679240227, 0.04831169173121452, 0.04864639788866043, -0.04143129661679268, -0.09741217643022537, -0.016064763069152832, 0.012926643714308739, 0.020278211683034897, 0.0031622096430510283, -0.03352763503789902, 0.00844635721296072, 0.05178043991327286, -0.040948767215013504, 0.01600121706724167, 0.05930143594741821, -0.04747535660862923, -0.05880596861243248, 0.009616314433515072, -0.004391269758343697, 0.07551032304763794, 0.035135217010974884, 0.07580439746379852, -0.04021089896559715, -0.008531750179827213, 0.11069080233573914, 0.07203035056591034, 0.07153178006410599, -0.020146042108535767, -0.01699020527303219, 0.019200334325432777, 0.06571383774280548, 0.006319434382021427, 0.032989729195833206, -0.05493909865617752, -0.021523576229810715, 0.022474315017461777, 0.05144853517413139, -0.007468422409147024, -0.009273862466216087, -0.027137938886880875, 0.017024444416165352, -0.013508365489542484, 0.11493881046772003, 0.009725579060614109, -0.07709035277366638, 0.015167796052992344, -0.009471599943935871, 0.05069473013281822, 0.045689553022384644, 0.0851469412446022, 0.0839904323220253, 0.03370309993624687, -0.08964955061674118, 0.030973445624113083, -0.07247883081436157, 0.011856822296977043, -0.07674606889486313, -0.0781896635890007, -0.06900273263454437, -0.003062734380364418, -0.03436105325818062, -0.04314376786351204, 0.006518115755170584, 0.05661472678184509, -0.018067965283989906, -0.02256861887872219, 0.017942747101187706, -0.056647829711437225, 0.06159031763672829, -0.047888562083244324, 0.08251871168613434, -0.0033744380343705416, -0.018091032281517982, -0.09999857097864151, 0.10309424251317978, -0.016581788659095764, 0.15839402377605438, 0.018085313960909843, 0.003114631399512291, -0.003384676296263933, -0.004281763918697834, -0.04672493785619736, 0.058235928416252136, 0.00019747766782529652, 0.008395851589739323, -0.02532247267663479, 0.03680172935128212, -0.032739173620939255, 0.02744324877858162, -0.017303891479969025, 0.042042918503284454, 0.03384950011968613, -0.06892641633749008, -0.00339486263692379, -0.05249205604195595, -0.013282147236168385, 0.06944151967763901, -0.07772018760442734, 0.08331097662448883, -0.018959861248731613, 0.0017430457519367337, -0.017817186191678047, -2.8981196084989317e-33, -0.031372733414173126, 0.003114543855190277, 0.04856663569808006, 0.04198647290468216, -0.08168543875217438, 0.01574147678911686, 0.035662926733493805, -0.0014926005387678742, -0.1074332669377327, 0.014051207341253757, 0.043207261711359024, -7.389450911432505e-05, 0.029004190117120743, -0.03235138952732086, 0.05949961021542549, -0.0067690713331103325, -0.002083350671455264, 0.020699217915534973, -0.022537417709827423, -0.021671297028660774, -0.0911915972828865, 0.13275852799415588, -0.004770455416291952, -0.05218598246574402, -0.013659271411597729, -0.009348261170089245, -0.016829386353492737, -0.04118919000029564, 0.03425348177552223, 0.0334659069776535, 0.019930334761738777, 0.04142918437719345, -0.04936360940337181, 0.029364435002207756, -0.09294454008340836, -0.048003796488046646, -0.06961214542388916, -0.09719906002283096, -0.05709003284573555, -0.06404177099466324, 0.05818786099553108, -0.0026508185546845198, -0.04288480058312416, -0.007579252123832703, -0.02306906320154667, 0.024035722017288208, -0.08807826042175293, -0.06500117480754852, 0.02848725952208042, -0.06919902563095093, 0.006590757519006729, -0.026989316567778587, -0.0331450030207634, 0.05927043780684471, 0.05477825179696083, -0.009711390361189842, -0.05153585225343704, -0.036553554236888885, 0.04199285805225372, -0.0009561289334669709, 0.029368659481406212, 0.05125657841563225, -0.04489742964506149, 0.016811426728963852, 0.044258758425712585, -0.04365428537130356, 0.06284071505069733, 0.013061375357210636, -0.023855486884713173, -0.04630764573812485, 0.03506060317158699, 0.011473189108073711, 0.06922371685504913, -0.024161210283637047, 0.0067556775175035, -1.6829428204800934e-05, -0.026605818420648575, 0.11889026314020157, -0.06821350008249283, 0.04390041157603264, -0.012791067361831665, -0.031713880598545074, -0.03877270221710205, 0.011234584264457226, 0.0665278285741806, 0.0479731447994709, -0.030317891389131546, -0.012332516722381115, -0.11349190026521683, -0.0017532352358102798, -0.055109620094299316, -0.0018608937971293926, 0.049083027988672256, 0.01634390652179718, -0.01367818471044302, 2.459125733054579e-33, 0.0750124454498291, -0.11439459025859833, -0.020628977566957474, -0.0637153685092926, -0.004965274129062891, 0.024090025573968887, 0.11034444719552994, 0.00249465461820364, -0.059519749134778976, 0.05181168392300606, 0.010956215672194958, -0.0511295385658741, 0.03695906698703766, -0.09698667377233505, -0.07668279856443405, -0.05590524524450302, 0.09831788390874863, 0.006134772207587957, 0.011565182358026505, 0.05098847672343254, -0.010022372007369995, -0.10295860469341278, -0.005396575201302767, 0.008927823044359684, -0.03254018351435661, 0.050336435437202454, 0.09719009697437286, 0.042003367096185684, -0.14637887477874756, -0.05056409537792206, -0.0029176624957472086, 0.010610135272145271, 0.004464232828468084, 0.00991392508149147, 0.003617785405367613, -0.02495797909796238, -0.0007199842948466539, 0.043053969740867615, 0.037595074623823166, -0.026089807972311974, -0.03061806783080101, 0.03873801603913307, -0.03696107119321823, 0.09616833925247192, 0.050007935613393784, 0.017895761877298355, -0.04619286581873894, -0.04095352068543434, 0.04600134864449501, 0.03538230061531067, -0.035320691764354706, -0.03703458979725838, -0.03610449284315109, -0.02106393314898014, 0.09079890698194504, 0.05889282003045082, -0.08324051648378372, -0.003948363941162825, 0.02845815382897854, -0.03766389191150665, -0.02531285397708416, 0.13462089002132416, -0.026410255581140518, 0.1072925329208374, 0.03971901535987854, 0.0019320417195558548, -0.0013465400552377105, 0.015603246167302132, -0.027719013392925262, 0.015609235502779484, 0.0391496978700161, 0.10184825211763382, 0.004289595875889063, 0.07733813673257828, -0.02122195065021515, -0.022125983610749245, 0.03937552496790886, 0.041597630828619, -0.014415173791348934, 0.0601520799100399, 0.038018982857465744, -0.037112243473529816, -0.004861644934862852, 0.07159613817930222, -0.022484837099909782, -0.008456198498606682, 0.07823725044727325, 0.05413876473903656, 0.02009023353457451, -0.00678817555308342, 0.06343123316764832, -0.00045007208245806396, 0.008001255802810192, -0.07373502850532532, 0.08927594125270844, -1.1316304338038208e-08, -0.030713262036442757, 0.07109761238098145, 0.0035660730209201574, -0.022263342514634132, -0.0278649739921093, -0.044419728219509125, -0.046794891357421875, -0.06820200383663177, 0.002742164768278599, -0.047388628125190735, 0.020490359514951706, 0.004826588090509176, 0.006884890142828226, 0.009043809957802296, -0.017731744796037674, 0.00785929523408413, -0.07651416212320328, 0.027080025523900986, 0.0484200119972229, 0.007822624407708645, -0.02594641223549843, 0.03596697002649307, -0.04927530884742737, 0.0017910815076902509, 0.04533190652728081, -0.027252664789557457, 0.0013601483078673482, -0.017234569415450096, 0.010836760513484478, -0.04088979586958885, 0.02723255380988121, 0.0034142511431127787, 0.039842281490564346, 0.027022358030080795, 0.020462622866034508, -0.06908945739269257, -0.019463349133729935, -0.028254475444555283, -0.007085661869496107, -0.013937066309154034, 0.02660173922777176, -0.032833218574523926, -0.041057173162698746, -0.07755880802869797, 0.07880087196826935, -0.03499109297990799, 0.004083720967173576, -0.023719938471913338, -0.03491189703345299, -0.10411815345287323, 0.015122952871024609, 0.10582257807254791, 0.09345655888319016, 0.03783890977501869, 0.051756858825683594, 0.03356033191084862, -0.009438621811568737, 0.03420450910925865, -0.07111456990242004, 0.12665453553199768, 0.1388946920633316, -0.015958847478032112, 0.0460200309753418, 0.03570867329835892]\n",
      "Embedding Length::  384\n"
     ]
    }
   ],
   "source": [
    "# Testing the embedding model\n",
    "query_result = embedding.embed_query(\"Arsenal FC!\")\n",
    "print(query_result)\n",
    "print(\"Embedding Length:: \", len(query_result))"
   ]
  },
  {
   "cell_type": "code",
   "execution_count": 9,
   "metadata": {},
   "outputs": [],
   "source": [
    "pc = pinecone.Pinecone()\n",
    "index = pc.Index(\"regulationchatbot\")"
   ]
  },
  {
   "cell_type": "code",
   "execution_count": 10,
   "metadata": {},
   "outputs": [],
   "source": [
    "docsearch = Pinecone.from_texts(\n",
    "    [t.page_content for t in chunked_data],\n",
    "    embedding,\n",
    "    index_name = 'regulationchatbot'\n",
    ")"
   ]
  },
  {
   "cell_type": "code",
   "execution_count": 11,
   "metadata": {},
   "outputs": [
    {
     "name": "stdout",
     "output_type": "stream",
     "text": [
      "[Document(page_content='When issuing such guidelines, the Commission shall pay particular attention to the needs of SMEs including start-ups, of \\nlocal public author ities and of the sectors most likely to be affected by this Regulation.\\nThe guidelines referred to in the first subparagraph of this paragraph shall take due account of the generally acknowledg ed \\nstate of the art on AI, as well as of relevant harmonised standards and common specif ications that are refer red to in'), Document(page_content='place only when the product comp lies with all applicable Union harmonisation legislation. To ensure consiste ncy \\nand avoid unnecessar y administrative burdens or costs, provid ers of a product that contains one or more high-r isk \\nAI syste ms, to which the requirements of this Regulation and of the Union harmonisation legislation listed in an \\nannex to this Regulation apply , should have flexibility with regard to operational decisions on how to ensure'), Document(page_content='suppor tive of new innovative solutions, enabling a European ecosyste m of public and private actor s creating AI \\nsyste ms in line with Union values and unlocking the potential of the digital transf ormation across all regions of the \\nUnion. By laying down those rules as well as measures in suppor t of inno vation with a particular focus on small and \\nmedium enterprises (SMEs), including startups, this Regulation suppor ts the objective of promoting the European')]\n"
     ]
    }
   ],
   "source": [
    "# Once the document is indexed, we can fetch like this\n",
    "indexed_doc = Pinecone.from_existing_index('regulationchatbot', embedding)\n",
    "\n",
    "query = \"What are the important points should an industry follow?\"\n",
    "\n",
    "final_docs = indexed_doc.similarity_search(query, k=3)\n",
    "print(final_docs)"
   ]
  },
  {
   "cell_type": "code",
   "execution_count": 12,
   "metadata": {},
   "outputs": [],
   "source": [
    "prompt_template = \"\"\"\n",
    "    Use the following pieces of information to answer the user's question.\n",
    "    If you don't know the answer, just say that you don't know, don't try to make up an answer.\n",
    "    \n",
    "    Context: {context}\n",
    "    Question: {question}\n",
    "    \n",
    "    Only return the helpful answer below and nothing else.\n",
    "    Helpful answer:\n",
    "\"\"\""
   ]
  },
  {
   "cell_type": "code",
   "execution_count": 13,
   "metadata": {},
   "outputs": [],
   "source": [
    "PROMPT = PromptTemplate(\n",
    "    template = prompt_template,\n",
    "    input_variables = ['context', 'question']\n",
    ")\n",
    "\n",
    "chain_type_kwargs = {\n",
    "        'prompt': PROMPT\n",
    "}"
   ]
  },
  {
   "cell_type": "code",
   "execution_count": 14,
   "metadata": {},
   "outputs": [],
   "source": [
    "llm = CTransformers(\n",
    "    model = \"../model/llama-2-7b-chat.ggmlv3.q4_0.bin\",\n",
    "    model_type = \"llama\",\n",
    "    config = {\n",
    "        \"max_new_tokens\": 512,\n",
    "        \"temperature\": 0.8\n",
    "    }\n",
    ")"
   ]
  },
  {
   "cell_type": "code",
   "execution_count": 15,
   "metadata": {},
   "outputs": [],
   "source": [
    "qa = RetrievalQA.from_chain_type(\n",
    "    llm = llm,\n",
    "    chain_type = \"stuff\",\n",
    "    retriever = indexed_doc.as_retriever(search_kwargs = {'k': 3}),\n",
    "    return_source_documents = True,\n",
    "    chain_type_kwargs = chain_type_kwargs\n",
    ")"
   ]
  },
  {
   "cell_type": "code",
   "execution_count": 16,
   "metadata": {},
   "outputs": [
    {
     "name": "stderr",
     "output_type": "stream",
     "text": [
      "/home/anubrata/GiT/learning_generative_ai/Regulation_Chatbot/regulation_chatbot/lib/python3.8/site-packages/langchain_core/_api/deprecation.py:139: LangChainDeprecationWarning: The method `Chain.__call__` was deprecated in langchain 0.1.0 and will be removed in 0.3.0. Use invoke instead.\n",
      "  warn_deprecated(\n"
     ]
    },
    {
     "name": "stdout",
     "output_type": "stream",
     "text": [
      "Response:      The AI Office is providing a template for providers of general-purpose AI models to put in place a policy to comply with Union copyright law and make publicly available a summary of the content used for training, in a manner that does not hamper the display or enjoyment of the work, including its normal exploitation and use, while maintaining the utility and quality of the work. Additionally, it is envisioned that there may be a similar disclosure obligation may be a similar disclosure obligation obligation obligation obligation obligation obligation obligationship be a similar disclosure of a similar disclosure of a similar disclosure of a similar disclosure of a similar disclosure of a similar disclosure of a similar disclosure obligation may be a similar disclosure of a similar disclosure of a similar disclosure of a similar disclosure of a similar disclosure of a similar disclosure may be a similar disclosure obligationship should be a similar disclosure of a similar disclosure obligation \n",
      "Response:  \n",
      "Startups may face challenges in meeting the eligibility conditions and selection criteria set forth in Article  (a) Article \n",
      "Article b.\n",
      "Paragraph (a) paragraph (a (a (a (a (a (a (a (a (a (a (a (a the article 2bartcleverting to access to gaining in para graphs (a). This Regulation, such initiatives for paragraph (a (a and as much of the regulations.\n",
      "Article  Article \n",
      "Paragraph (a paragraph (a) paragraph (a) paragraph (a (a (a (a the AI Regulation, which article  Article  Article  Article  Article  articeberging initiatives to obtaining (a. Article \n",
      "    Paragraph (a, particularly point (a) paragraph (a) paragraph (a and/under Article  the article  the article  the regulations of the regulation, such initiatives for paragraph (a) Article  Article  Article  Article  Article  Article  Article  Article  Article  Article  Article  Article  Article  Article  Article  Article  Article  Article  Article  Article  Article  Article  Article \n",
      "Article  Art. Priority. The Articative and the regulation, which article (a. These could be Paragraph (a) paragraph (a) Article  Article  Article  Article  Article  Article  Article  Article  Article  Article  Article  Article  Article  Article  Article \n",
      "Article \n",
      "   \n",
      "article \n",
      "Article (a and as much of the regulation, which article  Article  Article  Article  Article  Article  Article  Article  Article  Article  Article  Regulation for priority access to obtaining the article \n",
      "article  (a  Article  Article  Article  Article  Article  Article  Article  Article  Article  Article  Article  Article  Article  Article  article  article  article  Article  Article  Article  Article  Article  Article  Article Article b. The AI article \n",
      "    Paragraph (a paragraph (a) and as much of the regulation, which article  Article  Article  Articative. Priority Regulation, including on priority access to access to access to access to gaining paragraph (a) paragraph (a paragraph (a paragraph (a paragraph (a paragraph (a the EU laws mentioned regulatory sand\n"
     ]
    }
   ],
   "source": [
    "while True:\n",
    "    user_input = input(f\"Input Prompt: \")\n",
    "    result = qa({\n",
    "        \"query\": user_input\n",
    "    })\n",
    "    print(\"Response: \", result[\"result\"])"
   ]
  },
  {
   "cell_type": "code",
   "execution_count": null,
   "metadata": {},
   "outputs": [],
   "source": []
  }
 ],
 "metadata": {
  "kernelspec": {
   "display_name": "Python 3",
   "language": "python",
   "name": "python3"
  },
  "language_info": {
   "codemirror_mode": {
    "name": "ipython",
    "version": 3
   },
   "file_extension": ".py",
   "mimetype": "text/x-python",
   "name": "python",
   "nbconvert_exporter": "python",
   "pygments_lexer": "ipython3",
   "version": "3.8.19"
  }
 },
 "nbformat": 4,
 "nbformat_minor": 2
}

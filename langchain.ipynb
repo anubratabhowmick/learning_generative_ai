{
 "cells": [
  {
   "cell_type": "code",
   "execution_count": 54,
   "metadata": {},
   "outputs": [
    {
     "data": {
      "text/plain": [
       "True"
      ]
     },
     "execution_count": 54,
     "metadata": {},
     "output_type": "execute_result"
    }
   ],
   "source": [
    "import langchain\n",
    "\n",
    "from dotenv import load_dotenv\n",
    "from langchain_openai import OpenAI\n",
    "from langchain.prompts import PromptTemplate\n",
    "from langchain.agents import AgentType, load_tools, initialize_agent\n",
    "from langchain.chains import LLMChain, SimpleSequentialChain, SequentialChain\n",
    "\n",
    "load_dotenv()"
   ]
  },
  {
   "cell_type": "markdown",
   "metadata": {},
   "source": [
    "### 1. Langchain Basic"
   ]
  },
  {
   "cell_type": "code",
   "execution_count": 6,
   "metadata": {},
   "outputs": [],
   "source": [
    "client = OpenAI()\n"
   ]
  },
  {
   "cell_type": "code",
   "execution_count": 7,
   "metadata": {},
   "outputs": [
    {
     "name": "stdout",
     "output_type": "stream",
     "text": [
      "\n",
      "\n",
      "As of 2021, there are 48 countries in Asia. The top 10 countries in Asia based on population are:\n",
      "\n",
      "1. China\n",
      "2. India\n",
      "3. Indonesia\n",
      "4. Pakistan\n",
      "5. Bangladesh\n",
      "6. Japan\n",
      "7. Philippines\n",
      "8. Vietnam\n",
      "9. Iran\n",
      "10. Turkey\n"
     ]
    }
   ],
   "source": [
    "prompt = \"Can you tell me the total number of countries in Asia? Can you name the top 10 based on population\"\n",
    "print(client.predict(prompt))"
   ]
  },
  {
   "cell_type": "markdown",
   "metadata": {},
   "source": [
    "### 2. Prompt Template"
   ]
  },
  {
   "cell_type": "code",
   "execution_count": 9,
   "metadata": {},
   "outputs": [],
   "source": [
    "# 1st way \n",
    "prompt_template_name = PromptTemplate(\n",
    "    input_variables = ['country'],\n",
    "    template = 'Can you tell me the capital of {country}?'\n",
    ")"
   ]
  },
  {
   "cell_type": "code",
   "execution_count": 10,
   "metadata": {},
   "outputs": [],
   "source": [
    "prompt1 = prompt_template_name.format(country = 'India')\n",
    "prompt2 = prompt_template_name.format(country = 'Romania')"
   ]
  },
  {
   "cell_type": "code",
   "execution_count": 12,
   "metadata": {},
   "outputs": [
    {
     "data": {
      "text/plain": [
       "'The capital of India is New Delhi.'"
      ]
     },
     "execution_count": 12,
     "metadata": {},
     "output_type": "execute_result"
    }
   ],
   "source": [
    "client.predict(prompt1).strip()"
   ]
  },
  {
   "cell_type": "code",
   "execution_count": 13,
   "metadata": {},
   "outputs": [
    {
     "data": {
      "text/plain": [
       "'The capital of Romania is Bucharest.'"
      ]
     },
     "execution_count": 13,
     "metadata": {},
     "output_type": "execute_result"
    }
   ],
   "source": [
    "client.predict(prompt2).strip()"
   ]
  },
  {
   "cell_type": "code",
   "execution_count": 14,
   "metadata": {},
   "outputs": [],
   "source": [
    "# 2nd way\n",
    "prompt_template_name_2 = PromptTemplate.from_template(\"What is a good name for a company that makes {products}?\")"
   ]
  },
  {
   "cell_type": "code",
   "execution_count": 15,
   "metadata": {},
   "outputs": [],
   "source": [
    "prompt3 = prompt_template_name_2.format(products = 'toys')"
   ]
  },
  {
   "cell_type": "code",
   "execution_count": 17,
   "metadata": {},
   "outputs": [
    {
     "name": "stdout",
     "output_type": "stream",
     "text": [
      "1. Playful Creations Co.\n",
      "2. Toytopia Inc.\n",
      "3. WonderWorks Toys\n",
      "4. Imagination Factory\n",
      "5. Funland Toys\n",
      "6. Happyland Playthings\n",
      "7. Toylandia Enterprises\n",
      "8. Creativity Kids Co.\n",
      "9. Joyful Jax Toys\n",
      "10. Whimsy World Inc.\n",
      "11. Dreamland Toys\n",
      "12. Magic Makers Co.\n",
      "13. The Toy Emporium\n",
      "14. Playtime Innovations\n",
      "15. Toy Kingdom Co.\n",
      "16. Imagine and Play Co.\n",
      "17. Sunny Side Toys\n",
      "18. SparklePlay Co.\n",
      "19. Toytopolis Inc.\n",
      "20. WonderWorks Toy Co.\n"
     ]
    }
   ],
   "source": [
    "print(client.predict(prompt3).strip())"
   ]
  },
  {
   "cell_type": "markdown",
   "metadata": {},
   "source": [
    "### 3. Agent"
   ]
  },
  {
   "cell_type": "code",
   "execution_count": 18,
   "metadata": {},
   "outputs": [],
   "source": [
    "# Let's first see what's the problem\n",
    "\n",
    "prompt4 = \"Can you tell me who won the recent football world cup?\"\n",
    "prompt5 = \"Can you tell me the current GDP of India?\""
   ]
  },
  {
   "cell_type": "code",
   "execution_count": 19,
   "metadata": {},
   "outputs": [
    {
     "name": "stdout",
     "output_type": "stream",
     "text": [
      "The recent football world cup, also known as the 2018 FIFA World Cup, was won by France. They defeated Croatia 4-2 in the final match.\n"
     ]
    }
   ],
   "source": [
    "print(client.predict(prompt4).strip())"
   ]
  },
  {
   "cell_type": "code",
   "execution_count": 20,
   "metadata": {},
   "outputs": [
    {
     "name": "stdout",
     "output_type": "stream",
     "text": [
      "As of 2021, the current GDP of India is approximately $3.05 trillion USD.\n"
     ]
    }
   ],
   "source": [
    "print(client.predict(prompt5).strip())"
   ]
  },
  {
   "cell_type": "markdown",
   "metadata": {},
   "source": [
    "The information we get is dependent on the last trained data, and hence, is not recent. In order to overcome the problem, we use Agents who can scrape the data\n",
    "from the internet using APIs.\n",
    "For extracting real-time information, we will be using SerpAI ( pip install google-search-results)"
   ]
  },
  {
   "cell_type": "code",
   "execution_count": 34,
   "metadata": {},
   "outputs": [],
   "source": [
    "tool = load_tools([\"serpapi\"], llm=client)\n",
    "agent = initialize_agent(tool, client, agent=AgentType.ZERO_SHOT_REACT_DESCRIPTION, verbose=True)"
   ]
  },
  {
   "cell_type": "code",
   "execution_count": 35,
   "metadata": {},
   "outputs": [
    {
     "name": "stdout",
     "output_type": "stream",
     "text": [
      "\n",
      "\n",
      "\u001b[1m> Entering new AgentExecutor chain...\u001b[0m\n",
      "\u001b[32;1m\u001b[1;3m I should try searching for the answer.\n",
      "Action: Search\n",
      "Action Input: \"who won the recent football world cup\"\u001b[0m\n",
      "Observation: \u001b[36;1m\u001b[1;3m{'title': '2022 World Cup', 'games': [{'tournament': 'World Cup', 'stage': 'Final', 'stadium': 'Lusail Stadium', 'stadium_kgmid': '/m/0fq1625', 'status': 'FT (P)', 'date': 'Dec 18, 22', 'video_highlights': {'link': 'https://www.plus.fifa.com/content/46772b92-24c3-4315-87da-158ef7af6259?cid=(p_go-box)(c_FIFAPlus)(sc_highlights)(ssc_)(da_)(co_)(cc_)&s_cid=(co_)(cc_)&c=(c_FIFAPlus)(sc_highlights)(ssc_)(cc_)&pid=(p_go-box)(ch_)(t_)', 'thumbnail': 'https://serpapi.com/searches/668ec377ef7dda8ba5c1e252/images/405aab89c4c1d87d5cc981426bdd93ced1fd99cf3b9d23cce91be909e40f404f53e0014f444dd676ceb9c91be4f28304b741d23dc93aba10.jpeg', 'duration': '2:0'}, 'teams': [{'name': 'Argentina', 'score': '3 (4)', 'kgmid': '/m/02bh_v', 'thumbnail': 'https://serpapi.com/searches/668ec377ef7dda8ba5c1e252/images/405aab89c4c1d87d5cc981426bdd93cea6fe1a12c9c3b675143440a3079511491dfd15d7856f474e76960f279a0b7b32.png'}, {'name': 'France', 'score': '3 (2)', 'kgmid': '/m/01l3vx', 'thumbnail': 'https://serpapi.com/searches/668ec377ef7dda8ba5c1e252/images/405aab89c4c1d87d5cc981426bdd93cea6fe1a12c9c3b675c75c31e0562f4b568e9b92fa45cfa9d81d614dc20bf51643.png'}]}, {'tournament': 'World Cup', 'stage': 'Third place play-off', 'stadium': 'Khalifa International Stadium', 'stadium_kgmid': '/m/09s88f', 'status': 'FT', 'date': 'Dec 17, 22', 'video_highlights': {'link': 'https://www.plus.fifa.com/content/09e75c23-ec7d-4a6c-8b67-786e8c8c2627?cid=(p_go-box)(c_FIFAPlus)(sc_highlights)(ssc_)(da_)(co_)(cc_)&s_cid=(co_)(cc_)&c=(c_FIFAPlus)(sc_highlights)(ssc_)(cc_)&pid=(p_go-box)(ch_)(t_)', 'thumbnail': 'https://serpapi.com/searches/668ec377ef7dda8ba5c1e252/images/405aab89c4c1d87d5cc981426bdd93ce145c23aba996306728d8298af87367fda0f1a07daf9be1032e6bab87a922009c9a6b48e9cca03835.jpeg', 'duration': '2:0'}, 'teams': [{'name': 'Croatia', 'score': '2', 'kgmid': '/m/0356gk', 'thumbnail': 'https://serpapi.com/searches/668ec377ef7dda8ba5c1e252/images/405aab89c4c1d87d5cc981426bdd93ce237f090e37b6e1b53eb2a3c42fd7dc1740de38efec7a4b7a14f5ff612638d2bd.png'}, {'name': 'Morocco', 'score': '1', 'kgmid': '/m/03_9hm', 'thumbnail': 'https://serpapi.com/searches/668ec377ef7dda8ba5c1e252/images/405aab89c4c1d87d5cc981426bdd93ce237f090e37b6e1b5ab2e5d7906b19b5e2de9bc8674489bad334f16454980314b.png'}]}, {'tournament': 'World Cup', 'stage': 'Semi-finals', 'stadium': 'Al Bayt Stadium', 'stadium_kgmid': '/m/0fqsmsx', 'status': 'FT', 'date': 'Dec 14, 22', 'video_highlights': {'link': 'https://www.plus.fifa.com/content/7e2abcd7-4379-4bdd-95d6-a45ef0d977b0?cid=(p_go-box)(c_FIFAPlus)(sc_highlights)(ssc_)(da_)(co_)(cc_)&s_cid=(co_)(cc_)&c=(c_FIFAPlus)(sc_highlights)(ssc_)(cc_)&pid=(p_go-box)(ch_)(t_)', 'thumbnail': 'https://serpapi.com/searches/668ec377ef7dda8ba5c1e252/images/405aab89c4c1d87d5cc981426bdd93cef7c8bc612b8dce9034c879b20e1b0a97427edec815b5ddf2afe53cb49b1237b2d4da7bceab3d4a9a.jpeg', 'duration': '2:0'}, 'teams': [{'name': 'France', 'score': '2', 'kgmid': '/m/01l3vx', 'thumbnail': 'https://serpapi.com/searches/668ec377ef7dda8ba5c1e252/images/405aab89c4c1d87d5cc981426bdd93ce640009a726f91d42a5953616b53cfe147bd77b226b7300f449d6b19bbed682db.png'}, {'name': 'Morocco', 'score': '0', 'kgmid': '/m/03_9hm', 'thumbnail': 'https://serpapi.com/searches/668ec377ef7dda8ba5c1e252/images/405aab89c4c1d87d5cc981426bdd93ce640009a726f91d42717c91a8707fe6344fb07f8e349053b17e802578a856345c.png'}]}, {'tournament': 'World Cup', 'stage': 'Semi-finals', 'stadium': 'Lusail Stadium', 'stadium_kgmid': '/m/0fq1625', 'status': 'FT', 'date': 'Dec 13, 22', 'video_highlights': {'link': 'https://www.plus.fifa.com/content/9b1396af-643b-4613-a455-a4aa4339314a?cid=(p_go-box)(c_FIFAPlus)(sc_highlights)(ssc_)(da_)(co_)(cc_)&s_cid=(co_)(cc_)&c=(c_FIFAPlus)(sc_highlights)(ssc_)(cc_)&pid=(p_go-box)(ch_)(t_)', 'thumbnail': 'https://serpapi.com/searches/668ec377ef7dda8ba5c1e252/images/405aab89c4c1d87d5cc981426bdd93cede0ec5305a16ef249ab6082922af0910e5fab0750e7b52c1c20337a37da869fea10a1b9e42698b42.jpeg', 'duration': '2:0'}, 'teams': [{'name': 'Argentina', 'score': '3', 'kgmid': '/m/02bh_v', 'thumbnail': 'https://serpapi.com/searches/668ec377ef7dda8ba5c1e252/images/405aab89c4c1d87d5cc981426bdd93ce0b48092ffaaa62d51d9ea1960e9e7d3862d31e19d5de1be308158995d5195257.png'}, {'name': 'Croatia', 'score': '0', 'kgmid': '/m/0356gk', 'thumbnail': 'https://serpapi.com/searches/668ec377ef7dda8ba5c1e252/images/405aab89c4c1d87d5cc981426bdd93ce0b48092ffaaa62d50c61c636017f1587fb42f50917bdce4ea686ad060d84b017.png'}]}, {'tournament': 'World Cup', 'stage': 'Quarter-finals', 'stadium': 'Al Bayt Stadium', 'stadium_kgmid': '/m/0fqsmsx', 'status': 'FT', 'date': 'Dec 10, 22', 'video_highlights': {'link': 'https://www.plus.fifa.com/content/c8c095cd-9f14-4c4c-bc0f-50f9c3659fec?cid=(p_go-box)(c_FIFAPlus)(sc_highlights)(ssc_)(da_)(co_)(cc_)&s_cid=(co_)(cc_)&c=(c_FIFAPlus)(sc_highlights)(ssc_)(cc_)&pid=(p_go-box)(ch_)(t_)', 'thumbnail': 'https://serpapi.com/searches/668ec377ef7dda8ba5c1e252/images/405aab89c4c1d87d5cc981426bdd93cebe5b15268a7d12772af50286ba2d47a0f470c068960cfc1729104d67959208d46fe65c71cd028210.jpeg', 'duration': '2:0'}, 'teams': [{'name': 'England', 'score': '1', 'kgmid': '/m/02pp1', 'thumbnail': 'https://serpapi.com/searches/668ec377ef7dda8ba5c1e252/images/405aab89c4c1d87d5cc981426bdd93ce38a569f64758c759549b622fe69ed0ca85641500ae465dd5828fbada3284f3f0.png'}, {'name': 'France', 'score': '2', 'kgmid': '/m/01l3vx', 'thumbnail': 'https://serpapi.com/searches/668ec377ef7dda8ba5c1e252/images/405aab89c4c1d87d5cc981426bdd93ce38a569f64758c759eb2bd100668787a77d68ee328cdc2e5f94bca326dabbcffb.png'}]}, {'tournament': 'World Cup', 'stage': 'Quarter-finals', 'stadium': 'Al Thumama Stadium', 'stadium_kgmid': '/g/11f06l125x', 'status': 'FT', 'date': 'Dec 10, 22', 'video_highlights': {'link': 'https://www.plus.fifa.com/content/0b79ae56-6ae4-4d62-b18e-02050be9f6d4?cid=(p_go-box)(c_FIFAPlus)(sc_highlights)(ssc_)(da_)(co_)(cc_)&s_cid=(co_)(cc_)&c=(c_FIFAPlus)(sc_highlights)(ssc_)(cc_)&pid=(p_go-box)(ch_)(t_)', 'thumbnail': 'https://serpapi.com/searches/668ec377ef7dda8ba5c1e252/images/405aab89c4c1d87d5cc981426bdd93ce02d1c3d4f9e71fb989bb776dcc1631266e3ff076bee803b4d97e81b685b8cf87a08782a0797aeea0.jpeg', 'duration': '2:0'}, 'teams': [{'name': 'Morocco', 'score': '1', 'red_card': True, 'kgmid': '/m/03_9hm', 'thumbnail': 'https://serpapi.com/searches/668ec377ef7dda8ba5c1e252/images/405aab89c4c1d87d5cc981426bdd93cede0361290992e56ca05804d546b43598f2417c7dbae0a8d4d682596c1d02cd0b.png'}, {'name': 'Portugal', 'score': '0', 'kgmid': '/m/02rqxc', 'thumbnail': 'https://serpapi.com/searches/668ec377ef7dda8ba5c1e252/images/405aab89c4c1d87d5cc981426bdd93cede0361290992e56c10fbdd7ff87d966a181e558a5a6d5899a038449271e6f913.png'}]}]}\u001b[0m\n",
      "Thought:\u001b[32;1m\u001b[1;3m I should refine my search to just the winner of the final game.\n",
      "Action: Search\n",
      "Action Input: \"winner of 2022 football world cup\"\u001b[0m\n",
      "Observation: \u001b[36;1m\u001b[1;3mArgentina national football team\u001b[0m\n",
      "Thought:\u001b[32;1m\u001b[1;3m This is not the result I was looking for. I should try a different search query.\n",
      "Action: Search\n",
      "Action Input: \"winner of 2022 football world cup final\"\u001b[0m\n",
      "Observation: \u001b[36;1m\u001b[1;3mArgentina national football team\u001b[0m\n",
      "Thought:\u001b[32;1m\u001b[1;3m This is still not the result I was looking for. I should try another search query.\n",
      "Action: Search\n",
      "Action Input: \"who won the 2022 football world cup\"\u001b[0m\n",
      "Observation: \u001b[36;1m\u001b[1;3mArgentina national football team\u001b[0m\n",
      "Thought:\u001b[32;1m\u001b[1;3m This is not the correct answer. I need to try one more search query.\n",
      "Action: Search\n",
      "Action Input: \"who won the 2022 football world cup final\"\u001b[0m\n",
      "Observation: \u001b[36;1m\u001b[1;3mArgentina national football team\u001b[0m\n",
      "Thought:\u001b[32;1m\u001b[1;3m I now know the final answer.\n",
      "Final Answer: Argentina national football team\u001b[0m\n",
      "\n",
      "\u001b[1m> Finished chain.\u001b[0m\n"
     ]
    },
    {
     "data": {
      "text/plain": [
       "'Argentina national football team'"
      ]
     },
     "execution_count": 35,
     "metadata": {},
     "output_type": "execute_result"
    }
   ],
   "source": [
    "agent.run(\"Can you tell me who won the recent football world cup?\")"
   ]
  },
  {
   "cell_type": "code",
   "execution_count": 36,
   "metadata": {},
   "outputs": [
    {
     "name": "stdout",
     "output_type": "stream",
     "text": [
      "\n",
      "\n",
      "\u001b[1m> Entering new AgentExecutor chain...\u001b[0m\n",
      "\u001b[32;1m\u001b[1;3m I should think about using a search engine to find this information\n",
      "Action: Search\n",
      "Action Input: \"Current GDP India\"\u001b[0m\n",
      "Observation: \u001b[36;1m\u001b[1;3m[\"India, officially the Republic of India, is a country in South Asia. It is the seventh-largest country by area; the most populous country as of June 2023; and from the time of its independence in 1947, the world's most populous democracy.\", 'India type: Country in South Asia.', 'India entity_type: countries, locations, travel, competitions, military, travel.', 'India kgmid: /m/03rk0.', 'India capital: New Delhi.', 'India co2_emissions_per_capita: 1.58 metric tons (2020).', 'India electricity_consumption_per_capita: 797.35 kWh (2014).', 'India energy_use_per_capita: 630.90 kg of oil equivalent (2014).', 'India fertility_rate: 2.03 births per woman (2021).', 'India gdp_growth_rate: 7.2% annual change (2022).', 'India gross_domestic_product: 3.417 trillion USD (2022).', 'Economy of India ; Increase $3.937 trillion (nominal; 2024 est.) · Increase $14.59 trillion (PPP; 2024 est.) · 5th (nominal; 2024) · 3rd (PPP; 2024) · Increase 8.2% ...', 'In 2023, GDP in India was at around 3.57 trillion U.S. dollars, and it is expected to reach six trillion by the end of the decade. See figures ...', 'GDP per capita, current prices. U.S. dollars per capita. India. GDP, current prices. Purchasing power parity; billions of international dollars. 14.59.', 'GDP (current US$) - India from The World Bank: Data.', 'Nominal (current) Gross Domestic Product (GDP) of India is $3,385,090,000,000 (USD) as of 2022. · Real GDP (constant, inflation adjusted) of India reached ...', \"India's Current GDP (As of Q3 FY24): $4.11 trillion · India's GDP Growth Rate (Q3 FY24): 8.4%.\", 'The Gross Domestic Product (GDP) in India was worth 3549.92 billion US dollars in 2023, according to official data from the World Bank. The GDP value of ...', 'India. 3.94 thousand · United Kingdom. 3.5 thousand.', 'Nominal GDP or GDP at Current Prices in Q4 of 2023-24 is estimated at ₹78.28 lakh crore, against ₹71.23 lakh crore in Q4 of 2022-23, showing a ...', 'Nominal GDP or GDP at Current Prices is estimated to attain a level of ₹295.36 lakh crore in the year 2023-24, against ₹269.50 lakh crore ...']\u001b[0m\n",
      "Thought:\u001b[32;1m\u001b[1;3m I now know the final answer\n",
      "Final Answer: The current GDP of India is approximately $3.94 trillion USD (2023).\u001b[0m\n",
      "\n",
      "\u001b[1m> Finished chain.\u001b[0m\n"
     ]
    },
    {
     "data": {
      "text/plain": [
       "'The current GDP of India is approximately $3.94 trillion USD (2023).'"
      ]
     },
     "execution_count": 36,
     "metadata": {},
     "output_type": "execute_result"
    }
   ],
   "source": [
    "agent.run(\"Can you tell me the current GDP of India?\")"
   ]
  },
  {
   "cell_type": "code",
   "execution_count": 38,
   "metadata": {},
   "outputs": [],
   "source": [
    "# Let's create another tool with wikipedia(!pip install wikipedia)\n",
    "wiki_tool = load_tools(['wikipedia'], llm=client)\n",
    "wiki_agent = initialize_agent(wiki_tool, client, agent=AgentType.ZERO_SHOT_REACT_DESCRIPTION, verbose=True)"
   ]
  },
  {
   "cell_type": "code",
   "execution_count": 39,
   "metadata": {},
   "outputs": [
    {
     "name": "stdout",
     "output_type": "stream",
     "text": [
      "\n",
      "\n",
      "\u001b[1m> Entering new AgentExecutor chain...\u001b[0m\n",
      "\u001b[32;1m\u001b[1;3m It would be helpful to check Wikipedia for information on Euro 2024.\n",
      "Action: wikipedia\n",
      "Action Input: Euro 2024\u001b[0m\n",
      "Observation: \u001b[36;1m\u001b[1;3mPage: UEFA Euro 2024\n",
      "Summary: The 2024 UEFA European Football Championship, commonly referred to as UEFA Euro 2024 (stylised as UEFA EURO 2024), or simply Euro 2024, is the ongoing 17th edition of the UEFA European Championship, the quadrennial international football  championship organised by UEFA for the European men's national teams of its member associations. Germany is hosting the tournament, which is taking place from 14 June to 14 July 2024. The tournament comprises 24 teams, with Georgia making their European Championship debut. \n",
      "It is the third time that European Championship matches are played on German territory and the second time in reunified Germany, as West Germany hosted the tournament's 1988 edition, and four matches of the multi-national Euro 2020 were played in Munich. It is the first time the competition is held in what was formerly East Germany, with Leipzig as a host city, as well as the first major tournament since the 2006 FIFA World Cup that Germany serves as a solo host nation. The tournament returned to its usual four-year cycle after the 2020 edition was postponed to 2021 due to the COVID-19 pandemic.\n",
      "Italy were the defending champions, having won the 2020 final against England on penalties, but were eliminated in the round of 16 by Switzerland. Host nation Germany were eliminated by Spain in the quarter-finals.\n",
      "\n",
      "Page: UEFA Euro 2024 knockout stage\n",
      "Summary: The knockout stage of UEFA Euro 2024 began on 29 June 2024 with the round of 16 and will end on 14 July 2024 with the final at Olympiastadion in Berlin, Germany.\n",
      "All times listed are Central European Summer Time. (UTC+2)\n",
      "\n",
      "\n",
      "\n",
      "Page: UEFA Euro 2024 qualifying\n",
      "Summary: The UEFA Euro 2024 qualifying tournament was a football competition that was played from March 2023 to March 2024 to determine the 23 UEFA member men's national teams that would join the automatically qualified host team Germany in the UEFA Euro 2024 final tournament. The competition was linked with the 2022–23 UEFA Nations League, which gave countries a secondary route to qualify for the final tournament.\n",
      "A total of 53 UEFA member associations entered the qualifying process. The draw for the qualifying group stage took place at the Festhalle in Frankfurt on 9 October 2022.\u001b[0m\n",
      "Thought:\u001b[32;1m\u001b[1;3m After looking through the Wikipedia pages on Euro 2024, I now know that it is the 17th edition of the UEFA European Championship and will be held in Germany in 2024.\n",
      "Final Answer: Euro 2024 is the 17th edition of the UEFA European Championship, hosted by Germany in 2024. It comprises of 24 teams and is the first major tournament held in Germany since the 2006 FIFA World Cup. The knockout stage began on June 29, 2024 and the final will be held on July 14, 2024 at Olympiastadion in Berlin. The qualifying tournament, which took place from March 2023 to March 2024, determined the 23 teams that would join the host team. \u001b[0m\n",
      "\n",
      "\u001b[1m> Finished chain.\u001b[0m\n"
     ]
    },
    {
     "data": {
      "text/plain": [
       "'Euro 2024 is the 17th edition of the UEFA European Championship, hosted by Germany in 2024. It comprises of 24 teams and is the first major tournament held in Germany since the 2006 FIFA World Cup. The knockout stage began on June 29, 2024 and the final will be held on July 14, 2024 at Olympiastadion in Berlin. The qualifying tournament, which took place from March 2023 to March 2024, determined the 23 teams that would join the host team.'"
      ]
     },
     "execution_count": 39,
     "metadata": {},
     "output_type": "execute_result"
    }
   ],
   "source": [
    "wiki_agent.run(\"Can you tell me anything about Euro 2024?\")"
   ]
  },
  {
   "cell_type": "markdown",
   "metadata": {},
   "source": [
    "### 4. Chain\n",
    "\n",
    "Central to Langchain is a vital component called Chains. This forms the core connection between one or more LLMs. In certain sophisticated applications, it becomes necessary to chain LLMs together, either with each other or with other elements."
   ]
  },
  {
   "cell_type": "code",
   "execution_count": 41,
   "metadata": {},
   "outputs": [
    {
     "data": {
      "text/plain": [
       "OpenAI(client=<openai.resources.completions.Completions object at 0x7fa943253fd0>, async_client=<openai.resources.completions.AsyncCompletions object at 0x7fa942f19f30>, openai_api_key=SecretStr('**********'), openai_proxy='')"
      ]
     },
     "execution_count": 41,
     "metadata": {},
     "output_type": "execute_result"
    }
   ],
   "source": [
    "client"
   ]
  },
  {
   "cell_type": "code",
   "execution_count": 43,
   "metadata": {},
   "outputs": [
    {
     "data": {
      "text/plain": [
       "PromptTemplate(input_variables=['product'], template='What is a good name for a company that makes {product}')"
      ]
     },
     "execution_count": 43,
     "metadata": {},
     "output_type": "execute_result"
    }
   ],
   "source": [
    "chain_prompt = PromptTemplate.from_template(\"What is a good name for a company that makes {product}\")\n",
    "chain_prompt"
   ]
  },
  {
   "cell_type": "code",
   "execution_count": 46,
   "metadata": {},
   "outputs": [
    {
     "data": {
      "text/plain": [
       "LLMChain(verbose=True, prompt=PromptTemplate(input_variables=['product'], template='What is a good name for a company that makes {product}'), llm=OpenAI(client=<openai.resources.completions.Completions object at 0x7fa943253fd0>, async_client=<openai.resources.completions.AsyncCompletions object at 0x7fa942f19f30>, openai_api_key=SecretStr('**********'), openai_proxy=''))"
      ]
     },
     "execution_count": 46,
     "metadata": {},
     "output_type": "execute_result"
    }
   ],
   "source": [
    "chain = LLMChain(llm=client, prompt=chain_prompt, verbose=True)\n",
    "chain"
   ]
  },
  {
   "cell_type": "code",
   "execution_count": 47,
   "metadata": {},
   "outputs": [
    {
     "name": "stdout",
     "output_type": "stream",
     "text": [
      "\n",
      "\n",
      "\u001b[1m> Entering new LLMChain chain...\u001b[0m\n",
      "Prompt after formatting:\n",
      "\u001b[32;1m\u001b[1;3mWhat is a good name for a company that makes Wine\u001b[0m\n",
      "\n",
      "\u001b[1m> Finished chain.\u001b[0m\n"
     ]
    },
    {
     "data": {
      "text/plain": [
       "'\"Vineyard Vines\" or \"Grapevine Co.\"'"
      ]
     },
     "execution_count": 47,
     "metadata": {},
     "output_type": "execute_result"
    }
   ],
   "source": [
    "chain.run(\"Wine\").strip()"
   ]
  },
  {
   "cell_type": "code",
   "execution_count": 48,
   "metadata": {},
   "outputs": [],
   "source": [
    "# Combining Multiple Chains by SimpleSequentialChain\n",
    "prompt_startup_name = PromptTemplate(\n",
    "    input_variables = ['startup_name'],\n",
    "    template = \"I want to start a startup for {startup_name}, suggest me a good name for this!\"\n",
    ")\n",
    "\n",
    "name_chain = LLMChain(llm=client, prompt=prompt_startup_name)\n",
    "\n",
    "prompt_startup_strategy = PromptTemplate(\n",
    "    input_variables = ['name'],\n",
    "    template = \"Suggest some strategies for {name}\"\n",
    ")\n",
    "\n",
    "strategy_chain = LLMChain(llm=client, prompt=prompt_startup_strategy)"
   ]
  },
  {
   "cell_type": "code",
   "execution_count": 52,
   "metadata": {},
   "outputs": [
    {
     "name": "stdout",
     "output_type": "stream",
     "text": [
      "\n",
      "\n",
      "\u001b[1m> Entering new SimpleSequentialChain chain...\u001b[0m\n",
      "\u001b[36;1m\u001b[1;3m\n",
      "\n",
      "\"IntelliGenius\" \u001b[0m\n",
      "\u001b[33;1m\u001b[1;3m\n",
      "\n",
      "1. Market research and targeting: Conduct thorough market research to identify the target audience for IntelliGenius. This will help in understanding their needs, preferences, and behaviors, which can then be used to develop effective marketing strategies.\n",
      "\n",
      "2. Social media presence: Create a strong presence on social media platforms like Facebook, Twitter, and LinkedIn. This will help in reaching out to a larger audience and also engage with potential customers.\n",
      "\n",
      "3. Influencer marketing: Collaborate with influencers in the field of education, technology, and innovation to promote IntelliGenius. This will help in building credibility and trust among the target audience.\n",
      "\n",
      "4. Content marketing: Develop high-quality and informative content such as blogs, articles, videos, and infographics related to education and technology. This will help in establishing IntelliGenius as a thought leader in the industry.\n",
      "\n",
      "5. Partnership and collaborations: Partner with schools, colleges, and other educational institutions to promote IntelliGenius as a valuable tool for students. Collaborate with technology companies to enhance the product and reach a wider audience.\n",
      "\n",
      "6. Email marketing: Use email marketing to reach out to potential customers and keep them updated about new features, offers, and promotions.\n",
      "\n",
      "7. Referral program: Encourage satisfied customers to refer IntelliGenius to their friends\u001b[0m\n",
      "\n",
      "\u001b[1m> Finished chain.\u001b[0m\n",
      "\n",
      "\n",
      "1. Market research and targeting: Conduct thorough market research to identify the target audience for IntelliGenius. This will help in understanding their needs, preferences, and behaviors, which can then be used to develop effective marketing strategies.\n",
      "\n",
      "2. Social media presence: Create a strong presence on social media platforms like Facebook, Twitter, and LinkedIn. This will help in reaching out to a larger audience and also engage with potential customers.\n",
      "\n",
      "3. Influencer marketing: Collaborate with influencers in the field of education, technology, and innovation to promote IntelliGenius. This will help in building credibility and trust among the target audience.\n",
      "\n",
      "4. Content marketing: Develop high-quality and informative content such as blogs, articles, videos, and infographics related to education and technology. This will help in establishing IntelliGenius as a thought leader in the industry.\n",
      "\n",
      "5. Partnership and collaborations: Partner with schools, colleges, and other educational institutions to promote IntelliGenius as a valuable tool for students. Collaborate with technology companies to enhance the product and reach a wider audience.\n",
      "\n",
      "6. Email marketing: Use email marketing to reach out to potential customers and keep them updated about new features, offers, and promotions.\n",
      "\n",
      "7. Referral program: Encourage satisfied customers to refer IntelliGenius to their friends\n"
     ]
    }
   ],
   "source": [
    "chain = SimpleSequentialChain(chains=[name_chain, strategy_chain], verbose=True)\n",
    "print(chain.run(\"Artificial Intelligence\"))"
   ]
  },
  {
   "cell_type": "code",
   "execution_count": 55,
   "metadata": {},
   "outputs": [],
   "source": [
    "# Replace SimpleSequentialChain with SequentialChain\n",
    "prompt_startup_name_seq = PromptTemplate(\n",
    "    input_variables = ['startup_field'],\n",
    "    template = \"I want to start a startup for {startup_field}, suggest me a good name for this!\"\n",
    ")\n",
    "\n",
    "name_chain_seq = LLMChain(llm=client, prompt=prompt_startup_name_seq, output_key=\"startup_name\")\n",
    "\n",
    "prompt_startup_strategy_seq = PromptTemplate(\n",
    "    input_variables = ['startup_name'],\n",
    "    template = \"Suggest some strategies for {startup_name}\"\n",
    ")\n",
    "\n",
    "strategy_chain_seq = LLMChain(llm=client, prompt=prompt_startup_strategy_seq, output_key=\"strategy_items\")"
   ]
  },
  {
   "cell_type": "code",
   "execution_count": 58,
   "metadata": {},
   "outputs": [
    {
     "name": "stdout",
     "output_type": "stream",
     "text": [
      "\n",
      "\n",
      "\u001b[1m> Entering new SequentialChain chain...\u001b[0m\n",
      "\n",
      "\u001b[1m> Finished chain.\u001b[0m\n"
     ]
    },
    {
     "data": {
      "text/plain": [
       "{'startup_field': 'Artificial Intelligence',\n",
       " 'startup_name': '\\n\\n1. \"Cognify\"\\n2. \"AIgenius\"\\n3. \"NeuroNexus\"\\n4. \"MindMeld\"\\n5. \"IntelliVerse\"\\n6. \"Cortex Innovations\"\\n7. \"DeepThink\"\\n8. \"Prognosis AI\"\\n9. \"SmartBotics\"\\n10. \"Sentient Solutions\"',\n",
       " 'strategy_items': ' \\n\\n1. \"Cognify\":\\na. Develop a user-friendly interface that simplifies complex cognitive tasks.\\nb. Partner with educational institutions to promote learning and training through the use of Cognify.\\nc. Utilize gamification techniques to make cognitive tasks more engaging and fun.\\nd. Offer personalized training programs based on individual needs and goals.\\ne. Collaborate with businesses to integrate Cognify into their employee training and development programs.\\nf. Conduct research and publish white papers to establish credibility and showcase the benefits of using Cognify.\\n\\n2. \"AIgenius\":\\na. Position AIgenius as a cutting-edge and innovative solution for businesses.\\nb. Showcase case studies and success stories of companies that have implemented AIgenius.\\nc. Employ influencer marketing to establish thought leadership and reach a wider audience.\\nd. Offer demo sessions and free trials to allow potential customers to experience the benefits of AIgenius.\\ne. Utilize targeted advertising to reach businesses in industries with high potential for AI implementation.\\nf. Attend industry events and conferences to network and promote AIgenius to potential clients.\\n\\n3. \"NeuroNexus\":\\na. Partner with healthcare professionals and organizations to promote the use of NeuroNexus for brain health and wellness.\\nb. Offer'}"
      ]
     },
     "execution_count": 58,
     "metadata": {},
     "output_type": "execute_result"
    }
   ],
   "source": [
    "seq_chain = SequentialChain(\n",
    "    chains=[name_chain_seq, strategy_chain_seq],\n",
    "    input_variables=['startup_field'],\n",
    "    output_variables=['startup_name', 'strategy_items'],\n",
    "    verbose=True)\n",
    "\n",
    "seq_chain({\"startup_field\": \"Artificial Intelligence\"})"
   ]
  },
  {
   "cell_type": "code",
   "execution_count": null,
   "metadata": {},
   "outputs": [],
   "source": []
  }
 ],
 "metadata": {
  "kernelspec": {
   "display_name": "testingopenai",
   "language": "python",
   "name": "python3"
  },
  "language_info": {
   "codemirror_mode": {
    "name": "ipython",
    "version": 3
   },
   "file_extension": ".py",
   "mimetype": "text/x-python",
   "name": "python",
   "nbconvert_exporter": "python",
   "pygments_lexer": "ipython3",
   "version": "3.10.14"
  }
 },
 "nbformat": 4,
 "nbformat_minor": 2
}

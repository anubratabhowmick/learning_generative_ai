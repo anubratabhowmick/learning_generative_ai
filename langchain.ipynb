{
 "cells": [
  {
   "cell_type": "code",
   "execution_count": 105,
   "metadata": {},
   "outputs": [
    {
     "data": {
      "text/plain": [
       "True"
      ]
     },
     "execution_count": 105,
     "metadata": {},
     "output_type": "execute_result"
    }
   ],
   "source": [
    "import langchain\n",
    "\n",
    "from dotenv import load_dotenv\n",
    "from langchain_openai import OpenAI\n",
    "from langchain.prompts import PromptTemplate\n",
    "from langchain.document_loaders import PyPDFLoader\n",
    "from langchain.memory import ConversationBufferMemory, ConversationBufferWindowMemory\n",
    "from langchain.agents import AgentType, load_tools, initialize_agent\n",
    "from langchain.chains import LLMChain, SimpleSequentialChain, SequentialChain, ConversationChain\n",
    "\n",
    "load_dotenv()"
   ]
  },
  {
   "cell_type": "markdown",
   "metadata": {},
   "source": [
    "### 1. Langchain Basic"
   ]
  },
  {
   "cell_type": "code",
   "execution_count": 6,
   "metadata": {},
   "outputs": [],
   "source": [
    "client = OpenAI()\n"
   ]
  },
  {
   "cell_type": "code",
   "execution_count": 7,
   "metadata": {},
   "outputs": [
    {
     "name": "stdout",
     "output_type": "stream",
     "text": [
      "\n",
      "\n",
      "As of 2021, there are 48 countries in Asia. The top 10 countries in Asia based on population are:\n",
      "\n",
      "1. China\n",
      "2. India\n",
      "3. Indonesia\n",
      "4. Pakistan\n",
      "5. Bangladesh\n",
      "6. Japan\n",
      "7. Philippines\n",
      "8. Vietnam\n",
      "9. Iran\n",
      "10. Turkey\n"
     ]
    }
   ],
   "source": [
    "prompt = \"Can you tell me the total number of countries in Asia? Can you name the top 10 based on population\"\n",
    "print(client.predict(prompt))"
   ]
  },
  {
   "cell_type": "markdown",
   "metadata": {},
   "source": [
    "### 2. Prompt Template"
   ]
  },
  {
   "cell_type": "code",
   "execution_count": 9,
   "metadata": {},
   "outputs": [],
   "source": [
    "# 1st way \n",
    "prompt_template_name = PromptTemplate(\n",
    "    input_variables = ['country'],\n",
    "    template = 'Can you tell me the capital of {country}?'\n",
    ")"
   ]
  },
  {
   "cell_type": "code",
   "execution_count": 10,
   "metadata": {},
   "outputs": [],
   "source": [
    "prompt1 = prompt_template_name.format(country = 'India')\n",
    "prompt2 = prompt_template_name.format(country = 'Romania')"
   ]
  },
  {
   "cell_type": "code",
   "execution_count": 12,
   "metadata": {},
   "outputs": [
    {
     "data": {
      "text/plain": [
       "'The capital of India is New Delhi.'"
      ]
     },
     "execution_count": 12,
     "metadata": {},
     "output_type": "execute_result"
    }
   ],
   "source": [
    "client.predict(prompt1).strip()"
   ]
  },
  {
   "cell_type": "code",
   "execution_count": 13,
   "metadata": {},
   "outputs": [
    {
     "data": {
      "text/plain": [
       "'The capital of Romania is Bucharest.'"
      ]
     },
     "execution_count": 13,
     "metadata": {},
     "output_type": "execute_result"
    }
   ],
   "source": [
    "client.predict(prompt2).strip()"
   ]
  },
  {
   "cell_type": "code",
   "execution_count": 14,
   "metadata": {},
   "outputs": [],
   "source": [
    "# 2nd way\n",
    "prompt_template_name_2 = PromptTemplate.from_template(\"What is a good name for a company that makes {products}?\")"
   ]
  },
  {
   "cell_type": "code",
   "execution_count": 15,
   "metadata": {},
   "outputs": [],
   "source": [
    "prompt3 = prompt_template_name_2.format(products = 'toys')"
   ]
  },
  {
   "cell_type": "code",
   "execution_count": 17,
   "metadata": {},
   "outputs": [
    {
     "name": "stdout",
     "output_type": "stream",
     "text": [
      "1. Playful Creations Co.\n",
      "2. Toytopia Inc.\n",
      "3. WonderWorks Toys\n",
      "4. Imagination Factory\n",
      "5. Funland Toys\n",
      "6. Happyland Playthings\n",
      "7. Toylandia Enterprises\n",
      "8. Creativity Kids Co.\n",
      "9. Joyful Jax Toys\n",
      "10. Whimsy World Inc.\n",
      "11. Dreamland Toys\n",
      "12. Magic Makers Co.\n",
      "13. The Toy Emporium\n",
      "14. Playtime Innovations\n",
      "15. Toy Kingdom Co.\n",
      "16. Imagine and Play Co.\n",
      "17. Sunny Side Toys\n",
      "18. SparklePlay Co.\n",
      "19. Toytopolis Inc.\n",
      "20. WonderWorks Toy Co.\n"
     ]
    }
   ],
   "source": [
    "print(client.predict(prompt3).strip())"
   ]
  },
  {
   "cell_type": "markdown",
   "metadata": {},
   "source": [
    "### 3. Agent"
   ]
  },
  {
   "cell_type": "code",
   "execution_count": 18,
   "metadata": {},
   "outputs": [],
   "source": [
    "# Let's first see what's the problem\n",
    "\n",
    "prompt4 = \"Can you tell me who won the recent football world cup?\"\n",
    "prompt5 = \"Can you tell me the current GDP of India?\""
   ]
  },
  {
   "cell_type": "code",
   "execution_count": 19,
   "metadata": {},
   "outputs": [
    {
     "name": "stdout",
     "output_type": "stream",
     "text": [
      "The recent football world cup, also known as the 2018 FIFA World Cup, was won by France. They defeated Croatia 4-2 in the final match.\n"
     ]
    }
   ],
   "source": [
    "print(client.predict(prompt4).strip())"
   ]
  },
  {
   "cell_type": "code",
   "execution_count": 20,
   "metadata": {},
   "outputs": [
    {
     "name": "stdout",
     "output_type": "stream",
     "text": [
      "As of 2021, the current GDP of India is approximately $3.05 trillion USD.\n"
     ]
    }
   ],
   "source": [
    "print(client.predict(prompt5).strip())"
   ]
  },
  {
   "cell_type": "markdown",
   "metadata": {},
   "source": [
    "The information we get is dependent on the last trained data, and hence, is not recent. In order to overcome the problem, we use Agents who can scrape the data\n",
    "from the internet using APIs.\n",
    "For extracting real-time information, we will be using SerpAI ( pip install google-search-results)"
   ]
  },
  {
   "cell_type": "code",
   "execution_count": 34,
   "metadata": {},
   "outputs": [],
   "source": [
    "tool = load_tools([\"serpapi\"], llm=client)\n",
    "agent = initialize_agent(tool, client, agent=AgentType.ZERO_SHOT_REACT_DESCRIPTION, verbose=True)"
   ]
  },
  {
   "cell_type": "code",
   "execution_count": 35,
   "metadata": {},
   "outputs": [
    {
     "name": "stdout",
     "output_type": "stream",
     "text": [
      "\n",
      "\n",
      "\u001b[1m> Entering new AgentExecutor chain...\u001b[0m\n",
      "\u001b[32;1m\u001b[1;3m I should try searching for the answer.\n",
      "Action: Search\n",
      "Action Input: \"who won the recent football world cup\"\u001b[0m\n",
      "Observation: \u001b[36;1m\u001b[1;3m{'title': '2022 World Cup', 'games': [{'tournament': 'World Cup', 'stage': 'Final', 'stadium': 'Lusail Stadium', 'stadium_kgmid': '/m/0fq1625', 'status': 'FT (P)', 'date': 'Dec 18, 22', 'video_highlights': {'link': 'https://www.plus.fifa.com/content/46772b92-24c3-4315-87da-158ef7af6259?cid=(p_go-box)(c_FIFAPlus)(sc_highlights)(ssc_)(da_)(co_)(cc_)&s_cid=(co_)(cc_)&c=(c_FIFAPlus)(sc_highlights)(ssc_)(cc_)&pid=(p_go-box)(ch_)(t_)', 'thumbnail': 'https://serpapi.com/searches/668ec377ef7dda8ba5c1e252/images/405aab89c4c1d87d5cc981426bdd93ced1fd99cf3b9d23cce91be909e40f404f53e0014f444dd676ceb9c91be4f28304b741d23dc93aba10.jpeg', 'duration': '2:0'}, 'teams': [{'name': 'Argentina', 'score': '3 (4)', 'kgmid': '/m/02bh_v', 'thumbnail': 'https://serpapi.com/searches/668ec377ef7dda8ba5c1e252/images/405aab89c4c1d87d5cc981426bdd93cea6fe1a12c9c3b675143440a3079511491dfd15d7856f474e76960f279a0b7b32.png'}, {'name': 'France', 'score': '3 (2)', 'kgmid': '/m/01l3vx', 'thumbnail': 'https://serpapi.com/searches/668ec377ef7dda8ba5c1e252/images/405aab89c4c1d87d5cc981426bdd93cea6fe1a12c9c3b675c75c31e0562f4b568e9b92fa45cfa9d81d614dc20bf51643.png'}]}, {'tournament': 'World Cup', 'stage': 'Third place play-off', 'stadium': 'Khalifa International Stadium', 'stadium_kgmid': '/m/09s88f', 'status': 'FT', 'date': 'Dec 17, 22', 'video_highlights': {'link': 'https://www.plus.fifa.com/content/09e75c23-ec7d-4a6c-8b67-786e8c8c2627?cid=(p_go-box)(c_FIFAPlus)(sc_highlights)(ssc_)(da_)(co_)(cc_)&s_cid=(co_)(cc_)&c=(c_FIFAPlus)(sc_highlights)(ssc_)(cc_)&pid=(p_go-box)(ch_)(t_)', 'thumbnail': 'https://serpapi.com/searches/668ec377ef7dda8ba5c1e252/images/405aab89c4c1d87d5cc981426bdd93ce145c23aba996306728d8298af87367fda0f1a07daf9be1032e6bab87a922009c9a6b48e9cca03835.jpeg', 'duration': '2:0'}, 'teams': [{'name': 'Croatia', 'score': '2', 'kgmid': '/m/0356gk', 'thumbnail': 'https://serpapi.com/searches/668ec377ef7dda8ba5c1e252/images/405aab89c4c1d87d5cc981426bdd93ce237f090e37b6e1b53eb2a3c42fd7dc1740de38efec7a4b7a14f5ff612638d2bd.png'}, {'name': 'Morocco', 'score': '1', 'kgmid': '/m/03_9hm', 'thumbnail': 'https://serpapi.com/searches/668ec377ef7dda8ba5c1e252/images/405aab89c4c1d87d5cc981426bdd93ce237f090e37b6e1b5ab2e5d7906b19b5e2de9bc8674489bad334f16454980314b.png'}]}, {'tournament': 'World Cup', 'stage': 'Semi-finals', 'stadium': 'Al Bayt Stadium', 'stadium_kgmid': '/m/0fqsmsx', 'status': 'FT', 'date': 'Dec 14, 22', 'video_highlights': {'link': 'https://www.plus.fifa.com/content/7e2abcd7-4379-4bdd-95d6-a45ef0d977b0?cid=(p_go-box)(c_FIFAPlus)(sc_highlights)(ssc_)(da_)(co_)(cc_)&s_cid=(co_)(cc_)&c=(c_FIFAPlus)(sc_highlights)(ssc_)(cc_)&pid=(p_go-box)(ch_)(t_)', 'thumbnail': 'https://serpapi.com/searches/668ec377ef7dda8ba5c1e252/images/405aab89c4c1d87d5cc981426bdd93cef7c8bc612b8dce9034c879b20e1b0a97427edec815b5ddf2afe53cb49b1237b2d4da7bceab3d4a9a.jpeg', 'duration': '2:0'}, 'teams': [{'name': 'France', 'score': '2', 'kgmid': '/m/01l3vx', 'thumbnail': 'https://serpapi.com/searches/668ec377ef7dda8ba5c1e252/images/405aab89c4c1d87d5cc981426bdd93ce640009a726f91d42a5953616b53cfe147bd77b226b7300f449d6b19bbed682db.png'}, {'name': 'Morocco', 'score': '0', 'kgmid': '/m/03_9hm', 'thumbnail': 'https://serpapi.com/searches/668ec377ef7dda8ba5c1e252/images/405aab89c4c1d87d5cc981426bdd93ce640009a726f91d42717c91a8707fe6344fb07f8e349053b17e802578a856345c.png'}]}, {'tournament': 'World Cup', 'stage': 'Semi-finals', 'stadium': 'Lusail Stadium', 'stadium_kgmid': '/m/0fq1625', 'status': 'FT', 'date': 'Dec 13, 22', 'video_highlights': {'link': 'https://www.plus.fifa.com/content/9b1396af-643b-4613-a455-a4aa4339314a?cid=(p_go-box)(c_FIFAPlus)(sc_highlights)(ssc_)(da_)(co_)(cc_)&s_cid=(co_)(cc_)&c=(c_FIFAPlus)(sc_highlights)(ssc_)(cc_)&pid=(p_go-box)(ch_)(t_)', 'thumbnail': 'https://serpapi.com/searches/668ec377ef7dda8ba5c1e252/images/405aab89c4c1d87d5cc981426bdd93cede0ec5305a16ef249ab6082922af0910e5fab0750e7b52c1c20337a37da869fea10a1b9e42698b42.jpeg', 'duration': '2:0'}, 'teams': [{'name': 'Argentina', 'score': '3', 'kgmid': '/m/02bh_v', 'thumbnail': 'https://serpapi.com/searches/668ec377ef7dda8ba5c1e252/images/405aab89c4c1d87d5cc981426bdd93ce0b48092ffaaa62d51d9ea1960e9e7d3862d31e19d5de1be308158995d5195257.png'}, {'name': 'Croatia', 'score': '0', 'kgmid': '/m/0356gk', 'thumbnail': 'https://serpapi.com/searches/668ec377ef7dda8ba5c1e252/images/405aab89c4c1d87d5cc981426bdd93ce0b48092ffaaa62d50c61c636017f1587fb42f50917bdce4ea686ad060d84b017.png'}]}, {'tournament': 'World Cup', 'stage': 'Quarter-finals', 'stadium': 'Al Bayt Stadium', 'stadium_kgmid': '/m/0fqsmsx', 'status': 'FT', 'date': 'Dec 10, 22', 'video_highlights': {'link': 'https://www.plus.fifa.com/content/c8c095cd-9f14-4c4c-bc0f-50f9c3659fec?cid=(p_go-box)(c_FIFAPlus)(sc_highlights)(ssc_)(da_)(co_)(cc_)&s_cid=(co_)(cc_)&c=(c_FIFAPlus)(sc_highlights)(ssc_)(cc_)&pid=(p_go-box)(ch_)(t_)', 'thumbnail': 'https://serpapi.com/searches/668ec377ef7dda8ba5c1e252/images/405aab89c4c1d87d5cc981426bdd93cebe5b15268a7d12772af50286ba2d47a0f470c068960cfc1729104d67959208d46fe65c71cd028210.jpeg', 'duration': '2:0'}, 'teams': [{'name': 'England', 'score': '1', 'kgmid': '/m/02pp1', 'thumbnail': 'https://serpapi.com/searches/668ec377ef7dda8ba5c1e252/images/405aab89c4c1d87d5cc981426bdd93ce38a569f64758c759549b622fe69ed0ca85641500ae465dd5828fbada3284f3f0.png'}, {'name': 'France', 'score': '2', 'kgmid': '/m/01l3vx', 'thumbnail': 'https://serpapi.com/searches/668ec377ef7dda8ba5c1e252/images/405aab89c4c1d87d5cc981426bdd93ce38a569f64758c759eb2bd100668787a77d68ee328cdc2e5f94bca326dabbcffb.png'}]}, {'tournament': 'World Cup', 'stage': 'Quarter-finals', 'stadium': 'Al Thumama Stadium', 'stadium_kgmid': '/g/11f06l125x', 'status': 'FT', 'date': 'Dec 10, 22', 'video_highlights': {'link': 'https://www.plus.fifa.com/content/0b79ae56-6ae4-4d62-b18e-02050be9f6d4?cid=(p_go-box)(c_FIFAPlus)(sc_highlights)(ssc_)(da_)(co_)(cc_)&s_cid=(co_)(cc_)&c=(c_FIFAPlus)(sc_highlights)(ssc_)(cc_)&pid=(p_go-box)(ch_)(t_)', 'thumbnail': 'https://serpapi.com/searches/668ec377ef7dda8ba5c1e252/images/405aab89c4c1d87d5cc981426bdd93ce02d1c3d4f9e71fb989bb776dcc1631266e3ff076bee803b4d97e81b685b8cf87a08782a0797aeea0.jpeg', 'duration': '2:0'}, 'teams': [{'name': 'Morocco', 'score': '1', 'red_card': True, 'kgmid': '/m/03_9hm', 'thumbnail': 'https://serpapi.com/searches/668ec377ef7dda8ba5c1e252/images/405aab89c4c1d87d5cc981426bdd93cede0361290992e56ca05804d546b43598f2417c7dbae0a8d4d682596c1d02cd0b.png'}, {'name': 'Portugal', 'score': '0', 'kgmid': '/m/02rqxc', 'thumbnail': 'https://serpapi.com/searches/668ec377ef7dda8ba5c1e252/images/405aab89c4c1d87d5cc981426bdd93cede0361290992e56c10fbdd7ff87d966a181e558a5a6d5899a038449271e6f913.png'}]}]}\u001b[0m\n",
      "Thought:\u001b[32;1m\u001b[1;3m I should refine my search to just the winner of the final game.\n",
      "Action: Search\n",
      "Action Input: \"winner of 2022 football world cup\"\u001b[0m\n",
      "Observation: \u001b[36;1m\u001b[1;3mArgentina national football team\u001b[0m\n",
      "Thought:\u001b[32;1m\u001b[1;3m This is not the result I was looking for. I should try a different search query.\n",
      "Action: Search\n",
      "Action Input: \"winner of 2022 football world cup final\"\u001b[0m\n",
      "Observation: \u001b[36;1m\u001b[1;3mArgentina national football team\u001b[0m\n",
      "Thought:\u001b[32;1m\u001b[1;3m This is still not the result I was looking for. I should try another search query.\n",
      "Action: Search\n",
      "Action Input: \"who won the 2022 football world cup\"\u001b[0m\n",
      "Observation: \u001b[36;1m\u001b[1;3mArgentina national football team\u001b[0m\n",
      "Thought:\u001b[32;1m\u001b[1;3m This is not the correct answer. I need to try one more search query.\n",
      "Action: Search\n",
      "Action Input: \"who won the 2022 football world cup final\"\u001b[0m\n",
      "Observation: \u001b[36;1m\u001b[1;3mArgentina national football team\u001b[0m\n",
      "Thought:\u001b[32;1m\u001b[1;3m I now know the final answer.\n",
      "Final Answer: Argentina national football team\u001b[0m\n",
      "\n",
      "\u001b[1m> Finished chain.\u001b[0m\n"
     ]
    },
    {
     "data": {
      "text/plain": [
       "'Argentina national football team'"
      ]
     },
     "execution_count": 35,
     "metadata": {},
     "output_type": "execute_result"
    }
   ],
   "source": [
    "agent.run(\"Can you tell me who won the recent football world cup?\")"
   ]
  },
  {
   "cell_type": "code",
   "execution_count": 36,
   "metadata": {},
   "outputs": [
    {
     "name": "stdout",
     "output_type": "stream",
     "text": [
      "\n",
      "\n",
      "\u001b[1m> Entering new AgentExecutor chain...\u001b[0m\n",
      "\u001b[32;1m\u001b[1;3m I should think about using a search engine to find this information\n",
      "Action: Search\n",
      "Action Input: \"Current GDP India\"\u001b[0m\n",
      "Observation: \u001b[36;1m\u001b[1;3m[\"India, officially the Republic of India, is a country in South Asia. It is the seventh-largest country by area; the most populous country as of June 2023; and from the time of its independence in 1947, the world's most populous democracy.\", 'India type: Country in South Asia.', 'India entity_type: countries, locations, travel, competitions, military, travel.', 'India kgmid: /m/03rk0.', 'India capital: New Delhi.', 'India co2_emissions_per_capita: 1.58 metric tons (2020).', 'India electricity_consumption_per_capita: 797.35 kWh (2014).', 'India energy_use_per_capita: 630.90 kg of oil equivalent (2014).', 'India fertility_rate: 2.03 births per woman (2021).', 'India gdp_growth_rate: 7.2% annual change (2022).', 'India gross_domestic_product: 3.417 trillion USD (2022).', 'Economy of India ; Increase $3.937 trillion (nominal; 2024 est.) · Increase $14.59 trillion (PPP; 2024 est.) · 5th (nominal; 2024) · 3rd (PPP; 2024) · Increase 8.2% ...', 'In 2023, GDP in India was at around 3.57 trillion U.S. dollars, and it is expected to reach six trillion by the end of the decade. See figures ...', 'GDP per capita, current prices. U.S. dollars per capita. India. GDP, current prices. Purchasing power parity; billions of international dollars. 14.59.', 'GDP (current US$) - India from The World Bank: Data.', 'Nominal (current) Gross Domestic Product (GDP) of India is $3,385,090,000,000 (USD) as of 2022. · Real GDP (constant, inflation adjusted) of India reached ...', \"India's Current GDP (As of Q3 FY24): $4.11 trillion · India's GDP Growth Rate (Q3 FY24): 8.4%.\", 'The Gross Domestic Product (GDP) in India was worth 3549.92 billion US dollars in 2023, according to official data from the World Bank. The GDP value of ...', 'India. 3.94 thousand · United Kingdom. 3.5 thousand.', 'Nominal GDP or GDP at Current Prices in Q4 of 2023-24 is estimated at ₹78.28 lakh crore, against ₹71.23 lakh crore in Q4 of 2022-23, showing a ...', 'Nominal GDP or GDP at Current Prices is estimated to attain a level of ₹295.36 lakh crore in the year 2023-24, against ₹269.50 lakh crore ...']\u001b[0m\n",
      "Thought:\u001b[32;1m\u001b[1;3m I now know the final answer\n",
      "Final Answer: The current GDP of India is approximately $3.94 trillion USD (2023).\u001b[0m\n",
      "\n",
      "\u001b[1m> Finished chain.\u001b[0m\n"
     ]
    },
    {
     "data": {
      "text/plain": [
       "'The current GDP of India is approximately $3.94 trillion USD (2023).'"
      ]
     },
     "execution_count": 36,
     "metadata": {},
     "output_type": "execute_result"
    }
   ],
   "source": [
    "agent.run(\"Can you tell me the current GDP of India?\")"
   ]
  },
  {
   "cell_type": "code",
   "execution_count": 38,
   "metadata": {},
   "outputs": [],
   "source": [
    "# Let's create another tool with wikipedia(!pip install wikipedia)\n",
    "wiki_tool = load_tools(['wikipedia'], llm=client)\n",
    "wiki_agent = initialize_agent(wiki_tool, client, agent=AgentType.ZERO_SHOT_REACT_DESCRIPTION, verbose=True)"
   ]
  },
  {
   "cell_type": "code",
   "execution_count": 39,
   "metadata": {},
   "outputs": [
    {
     "name": "stdout",
     "output_type": "stream",
     "text": [
      "\n",
      "\n",
      "\u001b[1m> Entering new AgentExecutor chain...\u001b[0m\n",
      "\u001b[32;1m\u001b[1;3m It would be helpful to check Wikipedia for information on Euro 2024.\n",
      "Action: wikipedia\n",
      "Action Input: Euro 2024\u001b[0m\n",
      "Observation: \u001b[36;1m\u001b[1;3mPage: UEFA Euro 2024\n",
      "Summary: The 2024 UEFA European Football Championship, commonly referred to as UEFA Euro 2024 (stylised as UEFA EURO 2024), or simply Euro 2024, is the ongoing 17th edition of the UEFA European Championship, the quadrennial international football  championship organised by UEFA for the European men's national teams of its member associations. Germany is hosting the tournament, which is taking place from 14 June to 14 July 2024. The tournament comprises 24 teams, with Georgia making their European Championship debut. \n",
      "It is the third time that European Championship matches are played on German territory and the second time in reunified Germany, as West Germany hosted the tournament's 1988 edition, and four matches of the multi-national Euro 2020 were played in Munich. It is the first time the competition is held in what was formerly East Germany, with Leipzig as a host city, as well as the first major tournament since the 2006 FIFA World Cup that Germany serves as a solo host nation. The tournament returned to its usual four-year cycle after the 2020 edition was postponed to 2021 due to the COVID-19 pandemic.\n",
      "Italy were the defending champions, having won the 2020 final against England on penalties, but were eliminated in the round of 16 by Switzerland. Host nation Germany were eliminated by Spain in the quarter-finals.\n",
      "\n",
      "Page: UEFA Euro 2024 knockout stage\n",
      "Summary: The knockout stage of UEFA Euro 2024 began on 29 June 2024 with the round of 16 and will end on 14 July 2024 with the final at Olympiastadion in Berlin, Germany.\n",
      "All times listed are Central European Summer Time. (UTC+2)\n",
      "\n",
      "\n",
      "\n",
      "Page: UEFA Euro 2024 qualifying\n",
      "Summary: The UEFA Euro 2024 qualifying tournament was a football competition that was played from March 2023 to March 2024 to determine the 23 UEFA member men's national teams that would join the automatically qualified host team Germany in the UEFA Euro 2024 final tournament. The competition was linked with the 2022–23 UEFA Nations League, which gave countries a secondary route to qualify for the final tournament.\n",
      "A total of 53 UEFA member associations entered the qualifying process. The draw for the qualifying group stage took place at the Festhalle in Frankfurt on 9 October 2022.\u001b[0m\n",
      "Thought:\u001b[32;1m\u001b[1;3m After looking through the Wikipedia pages on Euro 2024, I now know that it is the 17th edition of the UEFA European Championship and will be held in Germany in 2024.\n",
      "Final Answer: Euro 2024 is the 17th edition of the UEFA European Championship, hosted by Germany in 2024. It comprises of 24 teams and is the first major tournament held in Germany since the 2006 FIFA World Cup. The knockout stage began on June 29, 2024 and the final will be held on July 14, 2024 at Olympiastadion in Berlin. The qualifying tournament, which took place from March 2023 to March 2024, determined the 23 teams that would join the host team. \u001b[0m\n",
      "\n",
      "\u001b[1m> Finished chain.\u001b[0m\n"
     ]
    },
    {
     "data": {
      "text/plain": [
       "'Euro 2024 is the 17th edition of the UEFA European Championship, hosted by Germany in 2024. It comprises of 24 teams and is the first major tournament held in Germany since the 2006 FIFA World Cup. The knockout stage began on June 29, 2024 and the final will be held on July 14, 2024 at Olympiastadion in Berlin. The qualifying tournament, which took place from March 2023 to March 2024, determined the 23 teams that would join the host team.'"
      ]
     },
     "execution_count": 39,
     "metadata": {},
     "output_type": "execute_result"
    }
   ],
   "source": [
    "wiki_agent.run(\"Can you tell me anything about Euro 2024?\")"
   ]
  },
  {
   "cell_type": "markdown",
   "metadata": {},
   "source": [
    "### 4. Chain\n",
    "\n",
    "Central to Langchain is a vital component called Chains. This forms the core connection between one or more LLMs. In certain sophisticated applications, it becomes necessary to chain LLMs together, either with each other or with other elements."
   ]
  },
  {
   "cell_type": "code",
   "execution_count": 41,
   "metadata": {},
   "outputs": [
    {
     "data": {
      "text/plain": [
       "OpenAI(client=<openai.resources.completions.Completions object at 0x7fa943253fd0>, async_client=<openai.resources.completions.AsyncCompletions object at 0x7fa942f19f30>, openai_api_key=SecretStr('**********'), openai_proxy='')"
      ]
     },
     "execution_count": 41,
     "metadata": {},
     "output_type": "execute_result"
    }
   ],
   "source": [
    "client"
   ]
  },
  {
   "cell_type": "code",
   "execution_count": 43,
   "metadata": {},
   "outputs": [
    {
     "data": {
      "text/plain": [
       "PromptTemplate(input_variables=['product'], template='What is a good name for a company that makes {product}')"
      ]
     },
     "execution_count": 43,
     "metadata": {},
     "output_type": "execute_result"
    }
   ],
   "source": [
    "chain_prompt = PromptTemplate.from_template(\"What is a good name for a company that makes {product}\")\n",
    "chain_prompt"
   ]
  },
  {
   "cell_type": "code",
   "execution_count": 46,
   "metadata": {},
   "outputs": [
    {
     "data": {
      "text/plain": [
       "LLMChain(verbose=True, prompt=PromptTemplate(input_variables=['product'], template='What is a good name for a company that makes {product}'), llm=OpenAI(client=<openai.resources.completions.Completions object at 0x7fa943253fd0>, async_client=<openai.resources.completions.AsyncCompletions object at 0x7fa942f19f30>, openai_api_key=SecretStr('**********'), openai_proxy=''))"
      ]
     },
     "execution_count": 46,
     "metadata": {},
     "output_type": "execute_result"
    }
   ],
   "source": [
    "chain = LLMChain(llm=client, prompt=chain_prompt, verbose=True)\n",
    "chain"
   ]
  },
  {
   "cell_type": "code",
   "execution_count": 47,
   "metadata": {},
   "outputs": [
    {
     "name": "stdout",
     "output_type": "stream",
     "text": [
      "\n",
      "\n",
      "\u001b[1m> Entering new LLMChain chain...\u001b[0m\n",
      "Prompt after formatting:\n",
      "\u001b[32;1m\u001b[1;3mWhat is a good name for a company that makes Wine\u001b[0m\n",
      "\n",
      "\u001b[1m> Finished chain.\u001b[0m\n"
     ]
    },
    {
     "data": {
      "text/plain": [
       "'\"Vineyard Vines\" or \"Grapevine Co.\"'"
      ]
     },
     "execution_count": 47,
     "metadata": {},
     "output_type": "execute_result"
    }
   ],
   "source": [
    "chain.run(\"Wine\").strip()"
   ]
  },
  {
   "cell_type": "code",
   "execution_count": 48,
   "metadata": {},
   "outputs": [],
   "source": [
    "# Combining Multiple Chains by SimpleSequentialChain\n",
    "prompt_startup_name = PromptTemplate(\n",
    "    input_variables = ['startup_name'],\n",
    "    template = \"I want to start a startup for {startup_name}, suggest me a good name for this!\"\n",
    ")\n",
    "\n",
    "name_chain = LLMChain(llm=client, prompt=prompt_startup_name)\n",
    "\n",
    "prompt_startup_strategy = PromptTemplate(\n",
    "    input_variables = ['name'],\n",
    "    template = \"Suggest some strategies for {name}\"\n",
    ")\n",
    "\n",
    "strategy_chain = LLMChain(llm=client, prompt=prompt_startup_strategy)"
   ]
  },
  {
   "cell_type": "code",
   "execution_count": 52,
   "metadata": {},
   "outputs": [
    {
     "name": "stdout",
     "output_type": "stream",
     "text": [
      "\n",
      "\n",
      "\u001b[1m> Entering new SimpleSequentialChain chain...\u001b[0m\n",
      "\u001b[36;1m\u001b[1;3m\n",
      "\n",
      "\"IntelliGenius\" \u001b[0m\n",
      "\u001b[33;1m\u001b[1;3m\n",
      "\n",
      "1. Market research and targeting: Conduct thorough market research to identify the target audience for IntelliGenius. This will help in understanding their needs, preferences, and behaviors, which can then be used to develop effective marketing strategies.\n",
      "\n",
      "2. Social media presence: Create a strong presence on social media platforms like Facebook, Twitter, and LinkedIn. This will help in reaching out to a larger audience and also engage with potential customers.\n",
      "\n",
      "3. Influencer marketing: Collaborate with influencers in the field of education, technology, and innovation to promote IntelliGenius. This will help in building credibility and trust among the target audience.\n",
      "\n",
      "4. Content marketing: Develop high-quality and informative content such as blogs, articles, videos, and infographics related to education and technology. This will help in establishing IntelliGenius as a thought leader in the industry.\n",
      "\n",
      "5. Partnership and collaborations: Partner with schools, colleges, and other educational institutions to promote IntelliGenius as a valuable tool for students. Collaborate with technology companies to enhance the product and reach a wider audience.\n",
      "\n",
      "6. Email marketing: Use email marketing to reach out to potential customers and keep them updated about new features, offers, and promotions.\n",
      "\n",
      "7. Referral program: Encourage satisfied customers to refer IntelliGenius to their friends\u001b[0m\n",
      "\n",
      "\u001b[1m> Finished chain.\u001b[0m\n",
      "\n",
      "\n",
      "1. Market research and targeting: Conduct thorough market research to identify the target audience for IntelliGenius. This will help in understanding their needs, preferences, and behaviors, which can then be used to develop effective marketing strategies.\n",
      "\n",
      "2. Social media presence: Create a strong presence on social media platforms like Facebook, Twitter, and LinkedIn. This will help in reaching out to a larger audience and also engage with potential customers.\n",
      "\n",
      "3. Influencer marketing: Collaborate with influencers in the field of education, technology, and innovation to promote IntelliGenius. This will help in building credibility and trust among the target audience.\n",
      "\n",
      "4. Content marketing: Develop high-quality and informative content such as blogs, articles, videos, and infographics related to education and technology. This will help in establishing IntelliGenius as a thought leader in the industry.\n",
      "\n",
      "5. Partnership and collaborations: Partner with schools, colleges, and other educational institutions to promote IntelliGenius as a valuable tool for students. Collaborate with technology companies to enhance the product and reach a wider audience.\n",
      "\n",
      "6. Email marketing: Use email marketing to reach out to potential customers and keep them updated about new features, offers, and promotions.\n",
      "\n",
      "7. Referral program: Encourage satisfied customers to refer IntelliGenius to their friends\n"
     ]
    }
   ],
   "source": [
    "chain = SimpleSequentialChain(chains=[name_chain, strategy_chain], verbose=True)\n",
    "print(chain.run(\"Artificial Intelligence\"))"
   ]
  },
  {
   "cell_type": "code",
   "execution_count": 55,
   "metadata": {},
   "outputs": [],
   "source": [
    "# Replace SimpleSequentialChain with SequentialChain\n",
    "prompt_startup_name_seq = PromptTemplate(\n",
    "    input_variables = ['startup_field'],\n",
    "    template = \"I want to start a startup for {startup_field}, suggest me a good name for this!\"\n",
    ")\n",
    "\n",
    "name_chain_seq = LLMChain(llm=client, prompt=prompt_startup_name_seq, output_key=\"startup_name\")\n",
    "\n",
    "prompt_startup_strategy_seq = PromptTemplate(\n",
    "    input_variables = ['startup_name'],\n",
    "    template = \"Suggest some strategies for {startup_name}\"\n",
    ")\n",
    "\n",
    "strategy_chain_seq = LLMChain(llm=client, prompt=prompt_startup_strategy_seq, output_key=\"strategy_items\")"
   ]
  },
  {
   "cell_type": "code",
   "execution_count": 58,
   "metadata": {},
   "outputs": [
    {
     "name": "stdout",
     "output_type": "stream",
     "text": [
      "\n",
      "\n",
      "\u001b[1m> Entering new SequentialChain chain...\u001b[0m\n",
      "\n",
      "\u001b[1m> Finished chain.\u001b[0m\n"
     ]
    },
    {
     "data": {
      "text/plain": [
       "{'startup_field': 'Artificial Intelligence',\n",
       " 'startup_name': '\\n\\n1. \"Cognify\"\\n2. \"AIgenius\"\\n3. \"NeuroNexus\"\\n4. \"MindMeld\"\\n5. \"IntelliVerse\"\\n6. \"Cortex Innovations\"\\n7. \"DeepThink\"\\n8. \"Prognosis AI\"\\n9. \"SmartBotics\"\\n10. \"Sentient Solutions\"',\n",
       " 'strategy_items': ' \\n\\n1. \"Cognify\":\\na. Develop a user-friendly interface that simplifies complex cognitive tasks.\\nb. Partner with educational institutions to promote learning and training through the use of Cognify.\\nc. Utilize gamification techniques to make cognitive tasks more engaging and fun.\\nd. Offer personalized training programs based on individual needs and goals.\\ne. Collaborate with businesses to integrate Cognify into their employee training and development programs.\\nf. Conduct research and publish white papers to establish credibility and showcase the benefits of using Cognify.\\n\\n2. \"AIgenius\":\\na. Position AIgenius as a cutting-edge and innovative solution for businesses.\\nb. Showcase case studies and success stories of companies that have implemented AIgenius.\\nc. Employ influencer marketing to establish thought leadership and reach a wider audience.\\nd. Offer demo sessions and free trials to allow potential customers to experience the benefits of AIgenius.\\ne. Utilize targeted advertising to reach businesses in industries with high potential for AI implementation.\\nf. Attend industry events and conferences to network and promote AIgenius to potential clients.\\n\\n3. \"NeuroNexus\":\\na. Partner with healthcare professionals and organizations to promote the use of NeuroNexus for brain health and wellness.\\nb. Offer'}"
      ]
     },
     "execution_count": 58,
     "metadata": {},
     "output_type": "execute_result"
    }
   ],
   "source": [
    "seq_chain = SequentialChain(\n",
    "    chains=[name_chain_seq, strategy_chain_seq],\n",
    "    input_variables=['startup_field'],\n",
    "    output_variables=['startup_name', 'strategy_items'],\n",
    "    verbose=True)\n",
    "\n",
    "seq_chain({\"startup_field\": \"Artificial Intelligence\"})"
   ]
  },
  {
   "cell_type": "markdown",
   "metadata": {},
   "source": [
    "### 5. PDFReader"
   ]
  },
  {
   "cell_type": "code",
   "execution_count": 76,
   "metadata": {},
   "outputs": [],
   "source": [
    "loader = PyPDFLoader(\"BiasFairnessSurvey.pdf\")\n",
    "pages = loader.load_and_split()"
   ]
  },
  {
   "cell_type": "code",
   "execution_count": 87,
   "metadata": {},
   "outputs": [
    {
     "name": "stdout",
     "output_type": "stream",
     "text": [
      "A Survey on Bias and Fairness in Machine Learning\n",
      "NINAREH MEHRABI, FRED MORSTATTER, NRIPSUTA SAXENA,\n",
      "KRISTINA LERMAN, and ARAM GALSTYAN, USC-ISI\n",
      "With the widespread use of artificial intelligence (AI) systems and applications in our everyday lives, accounting\n",
      "for fairness has gained significant importance in designing and engineering of such systems. AI systems can be\n",
      "used in many sensitive environments to make important and life-changing decisions; thus, it is crucial to ensure\n",
      "that these decisions do not reflect discriminatory behavior toward certain groups or populations. More recently\n",
      "some work has been developed in traditional machine learning and deep learning that address such challenges in\n",
      "different subdomains. With the commercialization of these systems, researchers are becoming more aware of\n",
      "the biases that these applications can contain and are attempting to address them. In this survey we investigated\n",
      "different real-world applications that have shown biases in various ways, and we listed different sources of\n",
      "biases that can affect AI applications. We then created a taxonomy for fairness definitions that machine learning\n",
      "researchers have defined in order to avoid the existing bias in AI systems. In addition to that, we examined\n",
      "different domains and subdomains in AI showing what researchers have observed with regard to unfair outcomes\n",
      "in the state-of-the-art methods and ways they have tried to address them. There are still many future directions\n",
      "and solutions that can be taken to mitigate the problem of bias in AI systems. We are hoping that this survey will\n",
      "motivate researchers to tackle these issues in the near future by observing existing work in their respective fields.\n",
      "CCS Concepts: •Computing methodologies →Artificial intelligence ;Philosophical/theoretical founda-\n",
      "tions of artificial intelligence ;\n",
      "Additional Key Words and Phrases: Fairness and Bias in Artificial Intelligence, Machine Learning, Deep\n",
      "Learning, Natural Language Processing, Representation Learning\n",
      "1 INTRODUCTION\n",
      "Machine learning algorithms have penetrated every aspect of our lives. Algorithms make movie\n",
      "recommendations, suggest products to buy, and who to date. They are increasingly used in high-stakes\n",
      "scenarios such as loans [ 113] and hiring decisions [ 19,39]. There are clear benefits to algorithmic\n",
      "decision-making; unlike people, machines do not become tired or bored [ 45,119], and can take into\n",
      "account orders of magnitude more factors than people can. However, like people, algorithms are\n",
      "vulnerable to biases that render their decisions “unfair” [6, 121]. In the context of decision-making,\n",
      "fairness is the absence of any prejudice or favoritism toward an individual or group based on\n",
      "their inherent or acquired characteristics . Thus, an unfair algorithm is one whose decisions are\n",
      "skewed toward a particular group of people. A canonical example comes from a tool used by courts\n",
      "in the United States to make pretrial detention and release decisions. The software, Correctional\n",
      "Offender Management Profiling for Alternative Sanctions (COMPAS), measures the risk of a person\n",
      "to recommit another crime. Judges use COMPAS to decide whether to release an offender, or to keep\n",
      "him or her in prison. An investigation into the software found a bias against African-Americans:1\n",
      "1https://www.propublica.org/article/machine-bias-risk-assessments-in-criminal-sentencing\n",
      "Authors’ address: USC, Information Sciences Institute 4676 Admiralty Way, Suite 1001 Marina del Rey, CA 90292\n",
      "This material is based upon work supported by the Defense Advanced Research Projects Agency (DARPA) under Agreement\n",
      "No. HR0011890019.arXiv:1908.09635v3  [cs.LG]  25 Jan 2022\n"
     ]
    }
   ],
   "source": [
    "print(pages[0].page_content)"
   ]
  },
  {
   "cell_type": "markdown",
   "metadata": {},
   "source": [
    "### 6. Memory"
   ]
  },
  {
   "cell_type": "code",
   "execution_count": 92,
   "metadata": {},
   "outputs": [
    {
     "name": "stdout",
     "output_type": "stream",
     "text": [
      "\"VitalTech\"\n"
     ]
    }
   ],
   "source": [
    "prompt_template_non_mem = PromptTemplate(\n",
    "    input_variables = ['product'],\n",
    "    template = \"What is a good name for a company that make {product}\"\n",
    ")\n",
    "\n",
    "non_mem_chain = LLMChain(llm=client, prompt=prompt_template_non_mem)\n",
    "print(non_mem_chain.run(\"medical devices\").strip())"
   ]
  },
  {
   "cell_type": "code",
   "execution_count": 93,
   "metadata": {},
   "outputs": [],
   "source": [
    "non_mem_chain.memory"
   ]
  },
  {
   "cell_type": "code",
   "execution_count": 95,
   "metadata": {},
   "outputs": [],
   "source": [
    "## ConversationBufferMemory: Attach memory to all previous conversations\n",
    "memory = ConversationBufferMemory()"
   ]
  },
  {
   "cell_type": "code",
   "execution_count": 96,
   "metadata": {},
   "outputs": [
    {
     "name": "stdout",
     "output_type": "stream",
     "text": [
      "1. MedTech Innovations\n",
      "2. Vitality Devices\n",
      "3. ProMed Solutions\n",
      "4. HealthTech Dynamics\n",
      "5. Precision Medical Devices\n",
      "6. Wellness Works\n",
      "7. CareTech Innovations\n",
      "8. LifeSavers Medical\n",
      "9. MedEquip Co.\n",
      "10. Advanced Medical Devices\n"
     ]
    }
   ],
   "source": [
    "prompt_template_mem = PromptTemplate(\n",
    "    input_variables = ['product'],\n",
    "    template = \"What is a good name for a company that make {product}\"\n",
    ")\n",
    "\n",
    "mem_chain = LLMChain(llm=client, prompt=prompt_template_mem, memory=memory)\n",
    "print(mem_chain.run(\"medical devices\").strip())"
   ]
  },
  {
   "cell_type": "code",
   "execution_count": 99,
   "metadata": {},
   "outputs": [
    {
     "name": "stdout",
     "output_type": "stream",
     "text": [
      "1. Capture Co.\n",
      "2. LensCrafters\n",
      "3. Focal Point\n",
      "4. Shutterworks\n",
      "5. SnapTech\n",
      "6. Frame & Focus\n",
      "7. ImageMakers\n",
      "8. Aperture Enterprises\n",
      "9. FlashForward\n",
      "10. ZoomWorks\n",
      "11. SnapShots Inc.\n",
      "12. Visionary Cameras\n",
      "13. Pixel Producers\n",
      "14. Frame & Film Co.\n",
      "15. OpticTech\n",
      "16. CameraCrafters\n",
      "17. SnapHive\n",
      "18. LensLogic\n",
      "19. FocusFusion\n",
      "20. ShotMakers.\n"
     ]
    }
   ],
   "source": [
    "print(mem_chain.run(\"camera\").strip())"
   ]
  },
  {
   "cell_type": "code",
   "execution_count": 100,
   "metadata": {},
   "outputs": [
    {
     "name": "stdout",
     "output_type": "stream",
     "text": [
      "\"SkyTech Drones\"\n"
     ]
    }
   ],
   "source": [
    "print(mem_chain.run(\"Drones\").strip())"
   ]
  },
  {
   "cell_type": "code",
   "execution_count": 101,
   "metadata": {},
   "outputs": [
    {
     "data": {
      "text/plain": [
       "ConversationBufferMemory(chat_memory=InMemoryChatMessageHistory(messages=[HumanMessage(content='medical devices'), AIMessage(content='\\n\\n1. MedTech Innovations\\n2. Vitality Devices\\n3. ProMed Solutions\\n4. HealthTech Dynamics\\n5. Precision Medical Devices\\n6. Wellness Works\\n7. CareTech Innovations\\n8. LifeSavers Medical\\n9. MedEquip Co.\\n10. Advanced Medical Devices'), HumanMessage(content='camera'), AIMessage(content='\\n\\n1. Capture Co.\\n2. LensCrafters\\n3. Focal Point\\n4. Shutterworks\\n5. SnapTech\\n6. Frame & Focus\\n7. ImageMakers\\n8. Aperture Enterprises\\n9. FlashForward\\n10. ZoomWorks\\n11. SnapShots Inc.\\n12. Visionary Cameras\\n13. Pixel Producers\\n14. Frame & Film Co.\\n15. OpticTech\\n16. CameraCrafters\\n17. SnapHive\\n18. LensLogic\\n19. FocusFusion\\n20. ShotMakers.'), HumanMessage(content='Drones'), AIMessage(content='\\n\\n\"SkyTech Drones\" ')]))"
      ]
     },
     "execution_count": 101,
     "metadata": {},
     "output_type": "execute_result"
    }
   ],
   "source": [
    "mem_chain.memory"
   ]
  },
  {
   "cell_type": "code",
   "execution_count": 103,
   "metadata": {},
   "outputs": [
    {
     "name": "stdout",
     "output_type": "stream",
     "text": [
      "Human: medical devices\n",
      "AI: \n",
      "\n",
      "1. MedTech Innovations\n",
      "2. Vitality Devices\n",
      "3. ProMed Solutions\n",
      "4. HealthTech Dynamics\n",
      "5. Precision Medical Devices\n",
      "6. Wellness Works\n",
      "7. CareTech Innovations\n",
      "8. LifeSavers Medical\n",
      "9. MedEquip Co.\n",
      "10. Advanced Medical Devices\n",
      "Human: camera\n",
      "AI: \n",
      "\n",
      "1. Capture Co.\n",
      "2. LensCrafters\n",
      "3. Focal Point\n",
      "4. Shutterworks\n",
      "5. SnapTech\n",
      "6. Frame & Focus\n",
      "7. ImageMakers\n",
      "8. Aperture Enterprises\n",
      "9. FlashForward\n",
      "10. ZoomWorks\n",
      "11. SnapShots Inc.\n",
      "12. Visionary Cameras\n",
      "13. Pixel Producers\n",
      "14. Frame & Film Co.\n",
      "15. OpticTech\n",
      "16. CameraCrafters\n",
      "17. SnapHive\n",
      "18. LensLogic\n",
      "19. FocusFusion\n",
      "20. ShotMakers.\n",
      "Human: Drones\n",
      "AI: \n",
      "\n",
      "\"SkyTech Drones\" \n"
     ]
    }
   ],
   "source": [
    "print(mem_chain.memory.buffer)"
   ]
  },
  {
   "cell_type": "code",
   "execution_count": 107,
   "metadata": {},
   "outputs": [
    {
     "name": "stdout",
     "output_type": "stream",
     "text": [
      "The following is a friendly conversation between a human and an AI. The AI is talkative and provides lots of specific details from its context. If the AI does not know the answer to a question, it truthfully says it does not know.\n",
      "\n",
      "Current conversation:\n",
      "{history}\n",
      "Human: {input}\n",
      "AI:\n"
     ]
    }
   ],
   "source": [
    "## ConversationChain: Helps to remember last x conversation chains\n",
    "convo = ConversationChain(llm=OpenAI(temperature=0.7))\n",
    "print(convo.prompt.template)"
   ]
  },
  {
   "cell_type": "code",
   "execution_count": 108,
   "metadata": {},
   "outputs": [
    {
     "data": {
      "text/plain": [
       "' The first Football World Cup was won by Uruguay in 1930. They defeated Argentina 4-2 in the final match. This was the inaugural World Cup and only 13 teams participated. The final was held in the Estadio Centenario in Montevideo, Uruguay.'"
      ]
     },
     "execution_count": 108,
     "metadata": {},
     "output_type": "execute_result"
    }
   ],
   "source": [
    "convo.run(\"Who won the first Football World Cup?\")"
   ]
  },
  {
   "cell_type": "code",
   "execution_count": 109,
   "metadata": {},
   "outputs": [
    {
     "data": {
      "text/plain": [
       "' The output of 4*4+1 is 17. This is because the multiplication of 4 and 4 equals 16, and adding 1 to that gives us a total of 17.'"
      ]
     },
     "execution_count": 109,
     "metadata": {},
     "output_type": "execute_result"
    }
   ],
   "source": [
    "convo.run(\"What is the output of 4*4+1?\")"
   ]
  },
  {
   "cell_type": "code",
   "execution_count": 110,
   "metadata": {},
   "outputs": [
    {
     "data": {
      "text/plain": [
       "' The output of 4*2/1 is 8. This is because 4 multiplied by 2 equals 8, and then dividing that by 1 does not change the value, so the output remains 8.'"
      ]
     },
     "execution_count": 110,
     "metadata": {},
     "output_type": "execute_result"
    }
   ],
   "source": [
    "convo.run(\"What is the output of 4*2/1?\")"
   ]
  },
  {
   "cell_type": "code",
   "execution_count": 111,
   "metadata": {},
   "outputs": [
    {
     "data": {
      "text/plain": [
       "\" The captain of the Uruguay team that won the first Football World Cup in 1930 was José Nasazzi. He was a defender and also the captain of the club team Nacional in Uruguay. Nasazzi played in all four of Uruguay's matches during the World Cup and scored one goal.\""
      ]
     },
     "execution_count": 111,
     "metadata": {},
     "output_type": "execute_result"
    }
   ],
   "source": [
    "convo.run(\"Who was the captain of the winning team?\")"
   ]
  },
  {
   "cell_type": "code",
   "execution_count": 125,
   "metadata": {},
   "outputs": [],
   "source": [
    "# ConversationBufferWindowMemory: Sets a buffer of k and remembers k conversations\n",
    "convoBufferMemory = ConversationBufferWindowMemory(k=1) # Change the k and rerun to get the difference"
   ]
  },
  {
   "cell_type": "code",
   "execution_count": 126,
   "metadata": {},
   "outputs": [],
   "source": [
    "convo_buffer = ConversationChain(llm=OpenAI(temperature=0.7), memory=convoBufferMemory)"
   ]
  },
  {
   "cell_type": "code",
   "execution_count": 127,
   "metadata": {},
   "outputs": [
    {
     "data": {
      "text/plain": [
       "' The first Football World Cup was won by Uruguay in 1930. They beat Argentina 4-2 in the final match. The tournament was held in Uruguay and was organized by FIFA. It consisted of 13 teams, and Uruguay won all four of their matches, scoring 15 goals and only conceding three. The top scorer of the tournament was Guillermo Stabile from Argentina, with eight goals. The trophy was called the Jules Rimet Trophy, named after the president of FIFA at the time.'"
      ]
     },
     "execution_count": 127,
     "metadata": {},
     "output_type": "execute_result"
    }
   ],
   "source": [
    "convo_buffer.run(\"Who won the first Football World Cup?\")"
   ]
  },
  {
   "cell_type": "code",
   "execution_count": 128,
   "metadata": {},
   "outputs": [
    {
     "data": {
      "text/plain": [
       "' The output of 4*4+1 is 17.'"
      ]
     },
     "execution_count": 128,
     "metadata": {},
     "output_type": "execute_result"
    }
   ],
   "source": [
    "convo_buffer.run(\"What is the output of 4*4+1?\")"
   ]
  },
  {
   "cell_type": "code",
   "execution_count": 129,
   "metadata": {},
   "outputs": [
    {
     "data": {
      "text/plain": [
       "' I do not have enough information to accurately answer that question. Do you have a specific team and game in mind?'"
      ]
     },
     "execution_count": 129,
     "metadata": {},
     "output_type": "execute_result"
    }
   ],
   "source": [
    "convo_buffer.run(\"Who was the captain of the winning team?\")"
   ]
  },
  {
   "cell_type": "code",
   "execution_count": null,
   "metadata": {},
   "outputs": [],
   "source": []
  }
 ],
 "metadata": {
  "kernelspec": {
   "display_name": "testingopenai",
   "language": "python",
   "name": "python3"
  },
  "language_info": {
   "codemirror_mode": {
    "name": "ipython",
    "version": 3
   },
   "file_extension": ".py",
   "mimetype": "text/x-python",
   "name": "python",
   "nbconvert_exporter": "python",
   "pygments_lexer": "ipython3",
   "version": "3.10.14"
  }
 },
 "nbformat": 4,
 "nbformat_minor": 2
}
